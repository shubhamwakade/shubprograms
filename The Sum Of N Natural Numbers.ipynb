{
 "cells": [
  {
   "cell_type": "code",
   "execution_count": 8,
   "id": "074e0860",
   "metadata": {},
   "outputs": [
    {
     "name": "stdout",
     "output_type": "stream",
     "text": [
      "Entre N Value:78\n",
      "the Sum Of 78 Numbers:3081\n"
     ]
    }
   ],
   "source": [
    "n=int(input(\"Entre N Value:\"))\n",
    "sum=0\n",
    "i=1\n",
    "while i <=n:\n",
    "      sum=sum+i\n",
    "      i=i+1\n",
    "print(\"the Sum Of {} Numbers:{}\".format(n,sum))"
   ]
  }
 ],
 "metadata": {
  "kernelspec": {
   "display_name": "Python 3 (ipykernel)",
   "language": "python",
   "name": "python3"
  },
  "language_info": {
   "codemirror_mode": {
    "name": "ipython",
    "version": 3
   },
   "file_extension": ".py",
   "mimetype": "text/x-python",
   "name": "python",
   "nbconvert_exporter": "python",
   "pygments_lexer": "ipython3",
   "version": "3.9.13"
  }
 },
 "nbformat": 4,
 "nbformat_minor": 5
}
