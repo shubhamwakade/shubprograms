{
 "cells": [
  {
   "cell_type": "markdown",
   "id": "abba38e6",
   "metadata": {},
   "source": [
    "# Implement a Banking Account"
   ]
  },
  {
   "cell_type": "code",
   "execution_count": 7,
   "id": "3f146201",
   "metadata": {},
   "outputs": [
    {
     "name": "stdout",
     "output_type": "stream",
     "text": [
      "Ashish\n",
      "5000\n",
      "5\n"
     ]
    }
   ],
   "source": [
    "class Account:\n",
    "\n",
    "    def __init__(self,title,Balance):\n",
    "        self.title=title\n",
    "        self.Balance=Balance\n",
    "class SavingsAccount(Account):\n",
    "\n",
    "    def __init__(self,title=None,Balance=0,interestRate=0):\n",
    "        super().__init__(title,Balance)\n",
    "        self.interestRate=interestRate\n",
    "savingaccount=SavingsAccount(\"Ashish\",5000,5)\n",
    "print(savingaccount.title)\n",
    "print(savingaccount.Balance)\n",
    "print(savingaccount.interestRate)\n",
    "        "
   ]
  },
  {
   "cell_type": "code",
   "execution_count": null,
   "id": "f3d312d4",
   "metadata": {},
   "outputs": [],
   "source": []
  }
 ],
 "metadata": {
  "kernelspec": {
   "display_name": "Python 3 (ipykernel)",
   "language": "python",
   "name": "python3"
  },
  "language_info": {
   "codemirror_mode": {
    "name": "ipython",
    "version": 3
   },
   "file_extension": ".py",
   "mimetype": "text/x-python",
   "name": "python",
   "nbconvert_exporter": "python",
   "pygments_lexer": "ipython3",
   "version": "3.9.13"
  }
 },
 "nbformat": 4,
 "nbformat_minor": 5
}
