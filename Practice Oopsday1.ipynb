{
 "cells": [
  {
   "cell_type": "code",
   "execution_count": 2,
   "id": "4c6911ef",
   "metadata": {},
   "outputs": [],
   "source": [
    "class gtaplayer:\n",
    "    def __init__(self,name,health,num_of_weapons,armor_type):\n",
    "        self.name=name\n",
    "        self.health=health\n",
    "        self.num_of_weapons=num_of_weapons\n",
    "        self.armor_type=armor_type\n",
    "    def display_gtaplayer(self):\n",
    "        print(\"name={} health={} weapons={} armor={}\".format(self.name, self.health,self.num_of_weapons,self.armor_type))"
   ]
  },
  {
   "cell_type": "code",
   "execution_count": 9,
   "id": "bcbbba43",
   "metadata": {},
   "outputs": [],
   "source": [
    "shubham=gtaplayer(\"shubham\",90,3,\"heavily armored\")"
   ]
  },
  {
   "cell_type": "code",
   "execution_count": 10,
   "id": "fe54ad54",
   "metadata": {},
   "outputs": [
    {
     "name": "stdout",
     "output_type": "stream",
     "text": [
      "name=shubham health=90 weapons=3 armor=heavily armored\n"
     ]
    }
   ],
   "source": [
    "shubham.display_gtaplayer()"
   ]
  },
  {
   "cell_type": "code",
   "execution_count": 16,
   "id": "be127f3a",
   "metadata": {},
   "outputs": [
    {
     "ename": "TypeError",
     "evalue": "__init__() missing 4 required positional arguments: 'name', 'health', 'num_of_weapons', and 'armor_type'",
     "output_type": "error",
     "traceback": [
      "\u001b[1;31m---------------------------------------------------------------------------\u001b[0m",
      "\u001b[1;31mTypeError\u001b[0m                                 Traceback (most recent call last)",
      "\u001b[1;32m~\\AppData\\Local\\Temp\\ipykernel_14104\\1511451698.py\u001b[0m in \u001b[0;36m<module>\u001b[1;34m\u001b[0m\n\u001b[1;32m----> 1\u001b[1;33m \u001b[0mshubham\u001b[0m\u001b[1;33m=\u001b[0m\u001b[0mgtaplayer\u001b[0m\u001b[1;33m(\u001b[0m\u001b[1;33m)\u001b[0m\u001b[1;33m\u001b[0m\u001b[1;33m\u001b[0m\u001b[0m\n\u001b[0m",
      "\u001b[1;31mTypeError\u001b[0m: __init__() missing 4 required positional arguments: 'name', 'health', 'num_of_weapons', and 'armor_type'"
     ]
    }
   ],
   "source": [
    "shubham=gtaplayer()"
   ]
  },
  {
   "cell_type": "code",
   "execution_count": 3,
   "id": "5d6f8d20",
   "metadata": {},
   "outputs": [],
   "source": [
    "gaurav=gtaplayer(\"gaurav\",90,3,\"LightlyArmored\")"
   ]
  },
  {
   "cell_type": "code",
   "execution_count": 5,
   "id": "53e4c015",
   "metadata": {},
   "outputs": [
    {
     "name": "stdout",
     "output_type": "stream",
     "text": [
      "name=gaurav health=90 weapons=3 armor=LightlyArmored\n"
     ]
    }
   ],
   "source": [
    "gaurav.display_gtaplayer()"
   ]
  },
  {
   "cell_type": "code",
   "execution_count": 6,
   "id": "cd80e6ba",
   "metadata": {},
   "outputs": [
    {
     "data": {
      "text/plain": [
       "90"
      ]
     },
     "execution_count": 6,
     "metadata": {},
     "output_type": "execute_result"
    }
   ],
   "source": [
    "gaurav.health"
   ]
  },
  {
   "cell_type": "code",
   "execution_count": 8,
   "id": "d1a184a3",
   "metadata": {},
   "outputs": [
    {
     "data": {
      "text/plain": [
       "'LightlyArmored'"
      ]
     },
     "execution_count": 8,
     "metadata": {},
     "output_type": "execute_result"
    }
   ],
   "source": [
    "gaurav.armor_type"
   ]
  },
  {
   "cell_type": "code",
   "execution_count": 12,
   "id": "2bdc25b9",
   "metadata": {},
   "outputs": [
    {
     "data": {
      "text/plain": [
       "90"
      ]
     },
     "execution_count": 12,
     "metadata": {},
     "output_type": "execute_result"
    }
   ],
   "source": [
    "shubham.health"
   ]
  },
  {
   "cell_type": "code",
   "execution_count": 13,
   "id": "2b7efde5",
   "metadata": {},
   "outputs": [
    {
     "data": {
      "text/plain": [
       "'heavily armored'"
      ]
     },
     "execution_count": 13,
     "metadata": {},
     "output_type": "execute_result"
    }
   ],
   "source": [
    "shubham.armor_type"
   ]
  },
  {
   "cell_type": "code",
   "execution_count": null,
   "id": "c47447f4",
   "metadata": {},
   "outputs": [],
   "source": []
  }
 ],
 "metadata": {
  "kernelspec": {
   "display_name": "Python 3 (ipykernel)",
   "language": "python",
   "name": "python3"
  },
  "language_info": {
   "codemirror_mode": {
    "name": "ipython",
    "version": 3
   },
   "file_extension": ".py",
   "mimetype": "text/x-python",
   "name": "python",
   "nbconvert_exporter": "python",
   "pygments_lexer": "ipython3",
   "version": "3.9.13"
  }
 },
 "nbformat": 4,
 "nbformat_minor": 5
}
