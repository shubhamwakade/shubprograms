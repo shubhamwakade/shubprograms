{
 "cells": [
  {
   "cell_type": "code",
   "execution_count": 1,
   "id": "61e3cbcb",
   "metadata": {},
   "outputs": [
    {
     "name": "stdout",
     "output_type": "stream",
     "text": [
      "Entre tuple of Numbers:(10,20,30,40)\n",
      "The Sum Of: 100\n",
      "The Average Of: 25.0\n"
     ]
    }
   ],
   "source": [
    "t=eval(input(\"Entre tuple of Numbers:\"))\n",
    "print(\"The Sum Of:\",sum(t))\n",
    "print(\"The Average Of:\",sum(t)/len(t))"
   ]
  }
 ],
 "metadata": {
  "kernelspec": {
   "display_name": "Python 3 (ipykernel)",
   "language": "python",
   "name": "python3"
  },
  "language_info": {
   "codemirror_mode": {
    "name": "ipython",
    "version": 3
   },
   "file_extension": ".py",
   "mimetype": "text/x-python",
   "name": "python",
   "nbconvert_exporter": "python",
   "pygments_lexer": "ipython3",
   "version": "3.9.13"
  }
 },
 "nbformat": 4,
 "nbformat_minor": 5
}
