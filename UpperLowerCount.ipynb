{
 "cells": [
  {
   "cell_type": "code",
   "execution_count": 24,
   "id": "aed17b3e",
   "metadata": {},
   "outputs": [
    {
     "name": "stdout",
     "output_type": "stream",
     "text": [
      "Entre The string:Hello World\n",
      "Uppercase char: 2\n",
      "lower char: 8\n"
     ]
    }
   ],
   "source": [
    "samplestring=(input(\"Entre The string:\"))\n",
    "def UpperLowerCount(samplestring):\n",
    "    upper = 0\n",
    "    lower = 0\n",
    "    for i in (samplestring):\n",
    "        if(i.isupper()):\n",
    "                upper+=1 \n",
    "        elif (i.islower()):\n",
    "                lower+=1\n",
    "    print(\"Uppercase char:\",upper)\n",
    "    print(\"lower char:\",lower)\n",
    "    \n",
    "UpperLowerCount(samplestring)"
   ]
  },
  {
   "cell_type": "code",
   "execution_count": 25,
   "id": "b44756a9",
   "metadata": {},
   "outputs": [
    {
     "name": "stdout",
     "output_type": "stream",
     "text": [
      "Entre The string:Hello World\n",
      "Uppercase char: 2\n",
      "lower char: 8\n"
     ]
    }
   ],
   "source": [
    "samplestring=(input(\"Entre The string:\"))\n",
    "def UpperLowerCount(samplestring):\n",
    "    upper = 0\n",
    "    lower = 0\n",
    "    for i in range(len(samplestring)):\n",
    "        if(samplestring[i].isupper()):\n",
    "                upper+=1 \n",
    "        elif (samplestring[i].islower()):\n",
    "                lower+=1\n",
    "    print(\"Uppercase char:\",upper)\n",
    "    print(\"lower char:\",lower)\n",
    "    \n",
    "UpperLowerCount(samplestring)"
   ]
  },
  {
   "cell_type": "code",
   "execution_count": null,
   "id": "ca5113ee",
   "metadata": {},
   "outputs": [],
   "source": []
  }
 ],
 "metadata": {
  "kernelspec": {
   "display_name": "Python 3 (ipykernel)",
   "language": "python",
   "name": "python3"
  },
  "language_info": {
   "codemirror_mode": {
    "name": "ipython",
    "version": 3
   },
   "file_extension": ".py",
   "mimetype": "text/x-python",
   "name": "python",
   "nbconvert_exporter": "python",
   "pygments_lexer": "ipython3",
   "version": "3.9.13"
  }
 },
 "nbformat": 4,
 "nbformat_minor": 5
}
