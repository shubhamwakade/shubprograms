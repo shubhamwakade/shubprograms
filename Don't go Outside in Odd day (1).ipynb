{
 "cells": [
  {
   "cell_type": "code",
   "execution_count": 1,
   "id": "c28a47a3",
   "metadata": {},
   "outputs": [
    {
     "name": "stdout",
     "output_type": "stream",
     "text": [
      "Numbers of even numbers :  4\n",
      "Numbers of even numbers :  5\n"
     ]
    }
   ],
   "source": [
    "# Series Declaration\n",
    "sample=(1,2,3,4,5,6,7,8,9)\n",
    "count_odd=0 ; count_even=0\n",
    "#loop Declaration\n",
    "for x in sample:\n",
    "        if not x % 2:\n",
    "            count_even+=1\n",
    "        else:\n",
    "            count_odd+=1\n",
    "#Code Driving\n",
    "print(\"Numbers of even numbers : \",count_even)\n",
    "print(\"Numbers of even numbers : \",count_odd)"
   ]
  },
  {
   "cell_type": "code",
   "execution_count": null,
   "id": "be1b1d3f",
   "metadata": {},
   "outputs": [],
   "source": []
  }
 ],
 "metadata": {
  "kernelspec": {
   "display_name": "Python 3 (ipykernel)",
   "language": "python",
   "name": "python3"
  },
  "language_info": {
   "codemirror_mode": {
    "name": "ipython",
    "version": 3
   },
   "file_extension": ".py",
   "mimetype": "text/x-python",
   "name": "python",
   "nbconvert_exporter": "python",
   "pygments_lexer": "ipython3",
   "version": "3.9.13"
  }
 },
 "nbformat": 4,
 "nbformat_minor": 5
}
