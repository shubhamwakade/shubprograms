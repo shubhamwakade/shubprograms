{
 "cells": [
  {
   "cell_type": "code",
   "execution_count": 8,
   "id": "1a0dbe0a",
   "metadata": {},
   "outputs": [
    {
     "name": "stdout",
     "output_type": "stream",
     "text": [
      "sample input: DELL\n",
      "sample output: {'D': 68, 'E': 69, 'L': 76}\n"
     ]
    }
   ],
   "source": [
    "print(\"sample input: \",end=\"\")\n",
    "ass2=input()\n",
    "list1=[]\n",
    "dict1={}\n",
    "ass2len = len(ass2)\n",
    "for ch in ass2:\n",
    "    asc = ord(ch)\n",
    "    dict1[ch]=asc\n",
    "print(\"sample output:\" ,end=\" \")\n",
    "print(dict1)"
   ]
  }
 ],
 "metadata": {
  "kernelspec": {
   "display_name": "Python 3 (ipykernel)",
   "language": "python",
   "name": "python3"
  },
  "language_info": {
   "codemirror_mode": {
    "name": "ipython",
    "version": 3
   },
   "file_extension": ".py",
   "mimetype": "text/x-python",
   "name": "python",
   "nbconvert_exporter": "python",
   "pygments_lexer": "ipython3",
   "version": "3.9.13"
  }
 },
 "nbformat": 4,
 "nbformat_minor": 5
}
