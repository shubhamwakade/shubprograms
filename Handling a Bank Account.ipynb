{
 "cells": [
  {
   "cell_type": "markdown",
   "id": "a4c78437",
   "metadata": {},
   "source": [
    "# Handling a Bank Account"
   ]
  },
  {
   "cell_type": "code",
   "execution_count": 99,
   "id": "3c862b0c",
   "metadata": {},
   "outputs": [],
   "source": [
    "class Account:\n",
    "    def __init__(self, title=None, balance=0):\n",
    "        self.title = title\n",
    "        self.balance = balance\n",
    "    \n",
    "    def withdrawal(self, balance):\n",
    "         self.balance -= balance\n",
    "\n",
    "    def deposit(self, balance):\n",
    "        self.balance += balance\n",
    "    def getBalance(self):\n",
    "         return self.balance \n",
    "class SavingsAccount(Account):\n",
    "    def __init__(self, title=None, balance=0, interestRate=0):\n",
    "            super().__init__(title, balance)\n",
    "            self.interestRate = interestRate\n",
    "    \n",
    "    def interestAmount(self):\n",
    "        return interestRate*balance /100\n",
    "        self.interestRate \n",
    "        \n",
    "demo1 = SavingsAccount(\"Ashish\", 2000, 5) "
   ]
  },
  {
   "cell_type": "code",
   "execution_count": 96,
   "id": "1eaee4c0",
   "metadata": {},
   "outputs": [
    {
     "data": {
      "text/plain": [
       "2500"
      ]
     },
     "execution_count": 96,
     "metadata": {},
     "output_type": "execute_result"
    }
   ],
   "source": [
    "demo1.balance=2000\n",
    "demo1.deposit(500)\n",
    "demo1.getBalance()"
   ]
  },
  {
   "cell_type": "code",
   "execution_count": 97,
   "id": "7daa1ce6",
   "metadata": {},
   "outputs": [
    {
     "data": {
      "text/plain": [
       "1500"
      ]
     },
     "execution_count": 97,
     "metadata": {},
     "output_type": "execute_result"
    }
   ],
   "source": [
    "demo1.balance=2000\n",
    "demo1.withdrawal(500)\n",
    "demo1.getBalance()"
   ]
  },
  {
   "cell_type": "code",
   "execution_count": 98,
   "id": "30d7f6cb",
   "metadata": {},
   "outputs": [
    {
     "data": {
      "text/plain": [
       "100.0"
      ]
     },
     "execution_count": 98,
     "metadata": {},
     "output_type": "execute_result"
    }
   ],
   "source": [
    "demo1.balance = 2000\n",
    "demo1.interestRate = 5\n",
    "demo1.interestAmount()"
   ]
  },
  {
   "cell_type": "code",
   "execution_count": null,
   "id": "7edb9c25",
   "metadata": {},
   "outputs": [],
   "source": []
  }
 ],
 "metadata": {
  "kernelspec": {
   "display_name": "Python 3 (ipykernel)",
   "language": "python",
   "name": "python3"
  },
  "language_info": {
   "codemirror_mode": {
    "name": "ipython",
    "version": 3
   },
   "file_extension": ".py",
   "mimetype": "text/x-python",
   "name": "python",
   "nbconvert_exporter": "python",
   "pygments_lexer": "ipython3",
   "version": "3.9.13"
  }
 },
 "nbformat": 4,
 "nbformat_minor": 5
}
