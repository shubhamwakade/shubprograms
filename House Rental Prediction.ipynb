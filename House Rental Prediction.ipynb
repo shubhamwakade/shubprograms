{
  "cells": [
    {
      "cell_type": "code",
      "source": [
        "import pandas as pd\n",
        "import numpy as np\n",
        "import seaborn as sns\n",
        "import matplotlib.pyplot as plt"
      ],
      "metadata": {
        "id": "8WmxL7QgavVJ"
      },
      "execution_count": 2,
      "outputs": []
    },
    {
      "cell_type": "code",
      "source": [
        "df = pd.read_csv(\"/content/House_rental.csv\")"
      ],
      "metadata": {
        "id": "BMjIOzMVawFf"
      },
      "execution_count": 7,
      "outputs": []
    },
    {
      "cell_type": "code",
      "source": [
        "df.head()"
      ],
      "metadata": {
        "colab": {
          "base_uri": "https://localhost:8080/",
          "height": 206
        },
        "id": "8WaU0XgLawOt",
        "outputId": "e34f828e-74f1-400e-f28a-f07edf370d22"
      },
      "execution_count": 5,
      "outputs": [
        {
          "output_type": "execute_result",
          "data": {
            "text/plain": [
              "   Unnamed: 0      Sqft  Floor  TotalFloor  Bedroom  Living.Room  Bathroom  \\\n",
              "0           1  1177.698      2           7        2            2         2   \n",
              "1           2  2134.800      5           7        4            2         2   \n",
              "2           3  1138.560      5           7        2            2         1   \n",
              "3           4  1458.780      2           7        3            2         2   \n",
              "4           5   967.776     11          14        3            2         2   \n",
              "\n",
              "   Price  \n",
              "0  62000  \n",
              "1  78000  \n",
              "2  58000  \n",
              "3  45000  \n",
              "4  45000  "
            ],
            "text/html": [
              "\n",
              "  <div id=\"df-154a9bda-2542-420e-af72-c08c505b67b2\">\n",
              "    <div class=\"colab-df-container\">\n",
              "      <div>\n",
              "<style scoped>\n",
              "    .dataframe tbody tr th:only-of-type {\n",
              "        vertical-align: middle;\n",
              "    }\n",
              "\n",
              "    .dataframe tbody tr th {\n",
              "        vertical-align: top;\n",
              "    }\n",
              "\n",
              "    .dataframe thead th {\n",
              "        text-align: right;\n",
              "    }\n",
              "</style>\n",
              "<table border=\"1\" class=\"dataframe\">\n",
              "  <thead>\n",
              "    <tr style=\"text-align: right;\">\n",
              "      <th></th>\n",
              "      <th>Unnamed: 0</th>\n",
              "      <th>Sqft</th>\n",
              "      <th>Floor</th>\n",
              "      <th>TotalFloor</th>\n",
              "      <th>Bedroom</th>\n",
              "      <th>Living.Room</th>\n",
              "      <th>Bathroom</th>\n",
              "      <th>Price</th>\n",
              "    </tr>\n",
              "  </thead>\n",
              "  <tbody>\n",
              "    <tr>\n",
              "      <th>0</th>\n",
              "      <td>1</td>\n",
              "      <td>1177.698</td>\n",
              "      <td>2</td>\n",
              "      <td>7</td>\n",
              "      <td>2</td>\n",
              "      <td>2</td>\n",
              "      <td>2</td>\n",
              "      <td>62000</td>\n",
              "    </tr>\n",
              "    <tr>\n",
              "      <th>1</th>\n",
              "      <td>2</td>\n",
              "      <td>2134.800</td>\n",
              "      <td>5</td>\n",
              "      <td>7</td>\n",
              "      <td>4</td>\n",
              "      <td>2</td>\n",
              "      <td>2</td>\n",
              "      <td>78000</td>\n",
              "    </tr>\n",
              "    <tr>\n",
              "      <th>2</th>\n",
              "      <td>3</td>\n",
              "      <td>1138.560</td>\n",
              "      <td>5</td>\n",
              "      <td>7</td>\n",
              "      <td>2</td>\n",
              "      <td>2</td>\n",
              "      <td>1</td>\n",
              "      <td>58000</td>\n",
              "    </tr>\n",
              "    <tr>\n",
              "      <th>3</th>\n",
              "      <td>4</td>\n",
              "      <td>1458.780</td>\n",
              "      <td>2</td>\n",
              "      <td>7</td>\n",
              "      <td>3</td>\n",
              "      <td>2</td>\n",
              "      <td>2</td>\n",
              "      <td>45000</td>\n",
              "    </tr>\n",
              "    <tr>\n",
              "      <th>4</th>\n",
              "      <td>5</td>\n",
              "      <td>967.776</td>\n",
              "      <td>11</td>\n",
              "      <td>14</td>\n",
              "      <td>3</td>\n",
              "      <td>2</td>\n",
              "      <td>2</td>\n",
              "      <td>45000</td>\n",
              "    </tr>\n",
              "  </tbody>\n",
              "</table>\n",
              "</div>\n",
              "      <button class=\"colab-df-convert\" onclick=\"convertToInteractive('df-154a9bda-2542-420e-af72-c08c505b67b2')\"\n",
              "              title=\"Convert this dataframe to an interactive table.\"\n",
              "              style=\"display:none;\">\n",
              "        \n",
              "  <svg xmlns=\"http://www.w3.org/2000/svg\" height=\"24px\"viewBox=\"0 0 24 24\"\n",
              "       width=\"24px\">\n",
              "    <path d=\"M0 0h24v24H0V0z\" fill=\"none\"/>\n",
              "    <path d=\"M18.56 5.44l.94 2.06.94-2.06 2.06-.94-2.06-.94-.94-2.06-.94 2.06-2.06.94zm-11 1L8.5 8.5l.94-2.06 2.06-.94-2.06-.94L8.5 2.5l-.94 2.06-2.06.94zm10 10l.94 2.06.94-2.06 2.06-.94-2.06-.94-.94-2.06-.94 2.06-2.06.94z\"/><path d=\"M17.41 7.96l-1.37-1.37c-.4-.4-.92-.59-1.43-.59-.52 0-1.04.2-1.43.59L10.3 9.45l-7.72 7.72c-.78.78-.78 2.05 0 2.83L4 21.41c.39.39.9.59 1.41.59.51 0 1.02-.2 1.41-.59l7.78-7.78 2.81-2.81c.8-.78.8-2.07 0-2.86zM5.41 20L4 18.59l7.72-7.72 1.47 1.35L5.41 20z\"/>\n",
              "  </svg>\n",
              "      </button>\n",
              "      \n",
              "  <style>\n",
              "    .colab-df-container {\n",
              "      display:flex;\n",
              "      flex-wrap:wrap;\n",
              "      gap: 12px;\n",
              "    }\n",
              "\n",
              "    .colab-df-convert {\n",
              "      background-color: #E8F0FE;\n",
              "      border: none;\n",
              "      border-radius: 50%;\n",
              "      cursor: pointer;\n",
              "      display: none;\n",
              "      fill: #1967D2;\n",
              "      height: 32px;\n",
              "      padding: 0 0 0 0;\n",
              "      width: 32px;\n",
              "    }\n",
              "\n",
              "    .colab-df-convert:hover {\n",
              "      background-color: #E2EBFA;\n",
              "      box-shadow: 0px 1px 2px rgba(60, 64, 67, 0.3), 0px 1px 3px 1px rgba(60, 64, 67, 0.15);\n",
              "      fill: #174EA6;\n",
              "    }\n",
              "\n",
              "    [theme=dark] .colab-df-convert {\n",
              "      background-color: #3B4455;\n",
              "      fill: #D2E3FC;\n",
              "    }\n",
              "\n",
              "    [theme=dark] .colab-df-convert:hover {\n",
              "      background-color: #434B5C;\n",
              "      box-shadow: 0px 1px 3px 1px rgba(0, 0, 0, 0.15);\n",
              "      filter: drop-shadow(0px 1px 2px rgba(0, 0, 0, 0.3));\n",
              "      fill: #FFFFFF;\n",
              "    }\n",
              "  </style>\n",
              "\n",
              "      <script>\n",
              "        const buttonEl =\n",
              "          document.querySelector('#df-154a9bda-2542-420e-af72-c08c505b67b2 button.colab-df-convert');\n",
              "        buttonEl.style.display =\n",
              "          google.colab.kernel.accessAllowed ? 'block' : 'none';\n",
              "\n",
              "        async function convertToInteractive(key) {\n",
              "          const element = document.querySelector('#df-154a9bda-2542-420e-af72-c08c505b67b2');\n",
              "          const dataTable =\n",
              "            await google.colab.kernel.invokeFunction('convertToInteractive',\n",
              "                                                     [key], {});\n",
              "          if (!dataTable) return;\n",
              "\n",
              "          const docLinkHtml = 'Like what you see? Visit the ' +\n",
              "            '<a target=\"_blank\" href=https://colab.research.google.com/notebooks/data_table.ipynb>data table notebook</a>'\n",
              "            + ' to learn more about interactive tables.';\n",
              "          element.innerHTML = '';\n",
              "          dataTable['output_type'] = 'display_data';\n",
              "          await google.colab.output.renderOutput(dataTable, element);\n",
              "          const docLink = document.createElement('div');\n",
              "          docLink.innerHTML = docLinkHtml;\n",
              "          element.appendChild(docLink);\n",
              "        }\n",
              "      </script>\n",
              "    </div>\n",
              "  </div>\n",
              "  "
            ]
          },
          "metadata": {},
          "execution_count": 5
        }
      ]
    },
    {
      "cell_type": "code",
      "source": [
        "df.info()"
      ],
      "metadata": {
        "colab": {
          "base_uri": "https://localhost:8080/"
        },
        "id": "r8BZxaIbawSy",
        "outputId": "d0ddd110-5421-46b4-e56d-57bc03536a13"
      },
      "execution_count": 8,
      "outputs": [
        {
          "output_type": "stream",
          "name": "stdout",
          "text": [
            "<class 'pandas.core.frame.DataFrame'>\n",
            "RangeIndex: 645 entries, 0 to 644\n",
            "Data columns (total 8 columns):\n",
            " #   Column       Non-Null Count  Dtype  \n",
            "---  ------       --------------  -----  \n",
            " 0   Unnamed: 0   645 non-null    int64  \n",
            " 1   Sqft         645 non-null    float64\n",
            " 2   Floor        645 non-null    int64  \n",
            " 3   TotalFloor   645 non-null    int64  \n",
            " 4   Bedroom      645 non-null    int64  \n",
            " 5   Living.Room  645 non-null    int64  \n",
            " 6   Bathroom     645 non-null    int64  \n",
            " 7   Price        645 non-null    int64  \n",
            "dtypes: float64(1), int64(7)\n",
            "memory usage: 40.4 KB\n"
          ]
        }
      ]
    },
    {
      "cell_type": "code",
      "source": [
        "df.describe()"
      ],
      "metadata": {
        "colab": {
          "base_uri": "https://localhost:8080/",
          "height": 300
        },
        "id": "Jb4QGgDuawW0",
        "outputId": "69f167da-c968-41c2-f037-f30f84e948c4"
      },
      "execution_count": 9,
      "outputs": [
        {
          "output_type": "execute_result",
          "data": {
            "text/plain": [
              "       Unnamed: 0         Sqft       Floor  TotalFloor     Bedroom  \\\n",
              "count  645.000000   645.000000  645.000000  645.000000  645.000000   \n",
              "mean   325.159690  1527.656260    5.939535   10.855814    2.837209   \n",
              "std    187.312152   767.386531    3.884721    4.996208    1.010740   \n",
              "min      1.000000   359.358000    1.000000    1.000000    1.000000   \n",
              "25%    164.000000   925.080000    3.000000    7.000000    2.000000   \n",
              "50%    326.000000  1423.200000    5.000000   12.000000    3.000000   \n",
              "75%    487.000000  1892.856000    8.000000   14.000000    4.000000   \n",
              "max    648.000000  5856.468000   22.000000   38.000000    7.000000   \n",
              "\n",
              "       Living.Room    Bathroom          Price  \n",
              "count   645.000000  645.000000     645.000000  \n",
              "mean      1.813953    1.810853   61986.823256  \n",
              "std       0.462364    0.683574   35635.091007  \n",
              "min       0.000000    0.000000    6100.000000  \n",
              "25%       2.000000    1.000000   39000.000000  \n",
              "50%       2.000000    2.000000   50000.000000  \n",
              "75%       2.000000    2.000000   75000.000000  \n",
              "max       4.000000    5.000000  250000.000000  "
            ],
            "text/html": [
              "\n",
              "  <div id=\"df-bb0dc3a2-02ae-4ad2-be24-d37574d62cf7\">\n",
              "    <div class=\"colab-df-container\">\n",
              "      <div>\n",
              "<style scoped>\n",
              "    .dataframe tbody tr th:only-of-type {\n",
              "        vertical-align: middle;\n",
              "    }\n",
              "\n",
              "    .dataframe tbody tr th {\n",
              "        vertical-align: top;\n",
              "    }\n",
              "\n",
              "    .dataframe thead th {\n",
              "        text-align: right;\n",
              "    }\n",
              "</style>\n",
              "<table border=\"1\" class=\"dataframe\">\n",
              "  <thead>\n",
              "    <tr style=\"text-align: right;\">\n",
              "      <th></th>\n",
              "      <th>Unnamed: 0</th>\n",
              "      <th>Sqft</th>\n",
              "      <th>Floor</th>\n",
              "      <th>TotalFloor</th>\n",
              "      <th>Bedroom</th>\n",
              "      <th>Living.Room</th>\n",
              "      <th>Bathroom</th>\n",
              "      <th>Price</th>\n",
              "    </tr>\n",
              "  </thead>\n",
              "  <tbody>\n",
              "    <tr>\n",
              "      <th>count</th>\n",
              "      <td>645.000000</td>\n",
              "      <td>645.000000</td>\n",
              "      <td>645.000000</td>\n",
              "      <td>645.000000</td>\n",
              "      <td>645.000000</td>\n",
              "      <td>645.000000</td>\n",
              "      <td>645.000000</td>\n",
              "      <td>645.000000</td>\n",
              "    </tr>\n",
              "    <tr>\n",
              "      <th>mean</th>\n",
              "      <td>325.159690</td>\n",
              "      <td>1527.656260</td>\n",
              "      <td>5.939535</td>\n",
              "      <td>10.855814</td>\n",
              "      <td>2.837209</td>\n",
              "      <td>1.813953</td>\n",
              "      <td>1.810853</td>\n",
              "      <td>61986.823256</td>\n",
              "    </tr>\n",
              "    <tr>\n",
              "      <th>std</th>\n",
              "      <td>187.312152</td>\n",
              "      <td>767.386531</td>\n",
              "      <td>3.884721</td>\n",
              "      <td>4.996208</td>\n",
              "      <td>1.010740</td>\n",
              "      <td>0.462364</td>\n",
              "      <td>0.683574</td>\n",
              "      <td>35635.091007</td>\n",
              "    </tr>\n",
              "    <tr>\n",
              "      <th>min</th>\n",
              "      <td>1.000000</td>\n",
              "      <td>359.358000</td>\n",
              "      <td>1.000000</td>\n",
              "      <td>1.000000</td>\n",
              "      <td>1.000000</td>\n",
              "      <td>0.000000</td>\n",
              "      <td>0.000000</td>\n",
              "      <td>6100.000000</td>\n",
              "    </tr>\n",
              "    <tr>\n",
              "      <th>25%</th>\n",
              "      <td>164.000000</td>\n",
              "      <td>925.080000</td>\n",
              "      <td>3.000000</td>\n",
              "      <td>7.000000</td>\n",
              "      <td>2.000000</td>\n",
              "      <td>2.000000</td>\n",
              "      <td>1.000000</td>\n",
              "      <td>39000.000000</td>\n",
              "    </tr>\n",
              "    <tr>\n",
              "      <th>50%</th>\n",
              "      <td>326.000000</td>\n",
              "      <td>1423.200000</td>\n",
              "      <td>5.000000</td>\n",
              "      <td>12.000000</td>\n",
              "      <td>3.000000</td>\n",
              "      <td>2.000000</td>\n",
              "      <td>2.000000</td>\n",
              "      <td>50000.000000</td>\n",
              "    </tr>\n",
              "    <tr>\n",
              "      <th>75%</th>\n",
              "      <td>487.000000</td>\n",
              "      <td>1892.856000</td>\n",
              "      <td>8.000000</td>\n",
              "      <td>14.000000</td>\n",
              "      <td>4.000000</td>\n",
              "      <td>2.000000</td>\n",
              "      <td>2.000000</td>\n",
              "      <td>75000.000000</td>\n",
              "    </tr>\n",
              "    <tr>\n",
              "      <th>max</th>\n",
              "      <td>648.000000</td>\n",
              "      <td>5856.468000</td>\n",
              "      <td>22.000000</td>\n",
              "      <td>38.000000</td>\n",
              "      <td>7.000000</td>\n",
              "      <td>4.000000</td>\n",
              "      <td>5.000000</td>\n",
              "      <td>250000.000000</td>\n",
              "    </tr>\n",
              "  </tbody>\n",
              "</table>\n",
              "</div>\n",
              "      <button class=\"colab-df-convert\" onclick=\"convertToInteractive('df-bb0dc3a2-02ae-4ad2-be24-d37574d62cf7')\"\n",
              "              title=\"Convert this dataframe to an interactive table.\"\n",
              "              style=\"display:none;\">\n",
              "        \n",
              "  <svg xmlns=\"http://www.w3.org/2000/svg\" height=\"24px\"viewBox=\"0 0 24 24\"\n",
              "       width=\"24px\">\n",
              "    <path d=\"M0 0h24v24H0V0z\" fill=\"none\"/>\n",
              "    <path d=\"M18.56 5.44l.94 2.06.94-2.06 2.06-.94-2.06-.94-.94-2.06-.94 2.06-2.06.94zm-11 1L8.5 8.5l.94-2.06 2.06-.94-2.06-.94L8.5 2.5l-.94 2.06-2.06.94zm10 10l.94 2.06.94-2.06 2.06-.94-2.06-.94-.94-2.06-.94 2.06-2.06.94z\"/><path d=\"M17.41 7.96l-1.37-1.37c-.4-.4-.92-.59-1.43-.59-.52 0-1.04.2-1.43.59L10.3 9.45l-7.72 7.72c-.78.78-.78 2.05 0 2.83L4 21.41c.39.39.9.59 1.41.59.51 0 1.02-.2 1.41-.59l7.78-7.78 2.81-2.81c.8-.78.8-2.07 0-2.86zM5.41 20L4 18.59l7.72-7.72 1.47 1.35L5.41 20z\"/>\n",
              "  </svg>\n",
              "      </button>\n",
              "      \n",
              "  <style>\n",
              "    .colab-df-container {\n",
              "      display:flex;\n",
              "      flex-wrap:wrap;\n",
              "      gap: 12px;\n",
              "    }\n",
              "\n",
              "    .colab-df-convert {\n",
              "      background-color: #E8F0FE;\n",
              "      border: none;\n",
              "      border-radius: 50%;\n",
              "      cursor: pointer;\n",
              "      display: none;\n",
              "      fill: #1967D2;\n",
              "      height: 32px;\n",
              "      padding: 0 0 0 0;\n",
              "      width: 32px;\n",
              "    }\n",
              "\n",
              "    .colab-df-convert:hover {\n",
              "      background-color: #E2EBFA;\n",
              "      box-shadow: 0px 1px 2px rgba(60, 64, 67, 0.3), 0px 1px 3px 1px rgba(60, 64, 67, 0.15);\n",
              "      fill: #174EA6;\n",
              "    }\n",
              "\n",
              "    [theme=dark] .colab-df-convert {\n",
              "      background-color: #3B4455;\n",
              "      fill: #D2E3FC;\n",
              "    }\n",
              "\n",
              "    [theme=dark] .colab-df-convert:hover {\n",
              "      background-color: #434B5C;\n",
              "      box-shadow: 0px 1px 3px 1px rgba(0, 0, 0, 0.15);\n",
              "      filter: drop-shadow(0px 1px 2px rgba(0, 0, 0, 0.3));\n",
              "      fill: #FFFFFF;\n",
              "    }\n",
              "  </style>\n",
              "\n",
              "      <script>\n",
              "        const buttonEl =\n",
              "          document.querySelector('#df-bb0dc3a2-02ae-4ad2-be24-d37574d62cf7 button.colab-df-convert');\n",
              "        buttonEl.style.display =\n",
              "          google.colab.kernel.accessAllowed ? 'block' : 'none';\n",
              "\n",
              "        async function convertToInteractive(key) {\n",
              "          const element = document.querySelector('#df-bb0dc3a2-02ae-4ad2-be24-d37574d62cf7');\n",
              "          const dataTable =\n",
              "            await google.colab.kernel.invokeFunction('convertToInteractive',\n",
              "                                                     [key], {});\n",
              "          if (!dataTable) return;\n",
              "\n",
              "          const docLinkHtml = 'Like what you see? Visit the ' +\n",
              "            '<a target=\"_blank\" href=https://colab.research.google.com/notebooks/data_table.ipynb>data table notebook</a>'\n",
              "            + ' to learn more about interactive tables.';\n",
              "          element.innerHTML = '';\n",
              "          dataTable['output_type'] = 'display_data';\n",
              "          await google.colab.output.renderOutput(dataTable, element);\n",
              "          const docLink = document.createElement('div');\n",
              "          docLink.innerHTML = docLinkHtml;\n",
              "          element.appendChild(docLink);\n",
              "        }\n",
              "      </script>\n",
              "    </div>\n",
              "  </div>\n",
              "  "
            ]
          },
          "metadata": {},
          "execution_count": 9
        }
      ]
    },
    {
      "cell_type": "code",
      "source": [
        "df.columns"
      ],
      "metadata": {
        "colab": {
          "base_uri": "https://localhost:8080/"
        },
        "id": "MFRpi1GOawa4",
        "outputId": "ae9364a4-d7df-4223-fb20-92160c16347d"
      },
      "execution_count": 13,
      "outputs": [
        {
          "output_type": "execute_result",
          "data": {
            "text/plain": [
              "Index(['Unnamed: 0', 'Sqft', 'Floor', 'TotalFloor', 'Bedroom', 'Living.Room',\n",
              "       'Bathroom', 'Price'],\n",
              "      dtype='object')"
            ]
          },
          "metadata": {},
          "execution_count": 13
        }
      ]
    },
    {
      "cell_type": "code",
      "source": [
        "df.isnull().sum()"
      ],
      "metadata": {
        "colab": {
          "base_uri": "https://localhost:8080/"
        },
        "id": "ysty_r3-awfK",
        "outputId": "963cc59d-fece-4633-a75f-5ac66a0cbebd"
      },
      "execution_count": 16,
      "outputs": [
        {
          "output_type": "execute_result",
          "data": {
            "text/plain": [
              "Unnamed: 0     0\n",
              "Sqft           0\n",
              "Floor          0\n",
              "TotalFloor     0\n",
              "Bedroom        0\n",
              "Living.Room    0\n",
              "Bathroom       0\n",
              "Price          0\n",
              "dtype: int64"
            ]
          },
          "metadata": {},
          "execution_count": 16
        }
      ]
    },
    {
      "cell_type": "code",
      "source": [
        "df.shape"
      ],
      "metadata": {
        "colab": {
          "base_uri": "https://localhost:8080/"
        },
        "id": "kHgY7epBfIYK",
        "outputId": "1bc60d19-e4b7-415b-f599-5e20a9bee737"
      },
      "execution_count": 23,
      "outputs": [
        {
          "output_type": "execute_result",
          "data": {
            "text/plain": [
              "(645, 8)"
            ]
          },
          "metadata": {},
          "execution_count": 23
        }
      ]
    },
    {
      "cell_type": "code",
      "source": [
        "df.Bathroom.unique()"
      ],
      "metadata": {
        "colab": {
          "base_uri": "https://localhost:8080/"
        },
        "id": "vw3Rft-ufRzn",
        "outputId": "7f40ef4c-3fc5-47fe-ffce-e6a6b03fcdb9"
      },
      "execution_count": 26,
      "outputs": [
        {
          "output_type": "execute_result",
          "data": {
            "text/plain": [
              "array([2, 1, 4, 3, 0, 5])"
            ]
          },
          "metadata": {},
          "execution_count": 26
        }
      ]
    },
    {
      "cell_type": "markdown",
      "source": [
        "# Matplotlib Visualization for the dataset of House Rental Prediction\n"
      ],
      "metadata": {
        "id": "SiUAwZXrdMC2"
      }
    },
    {
      "cell_type": "code",
      "source": [
        "plt.figure(figsize=(8,5))\n",
        "plt.title(\"Bedrooms\", fontsize=14)\n",
        "plt.bar(x=df['Bedroom'].value_counts().index,\n",
        "        height=df.Bedroom.value_counts().values)\n"
      ],
      "metadata": {
        "colab": {
          "base_uri": "https://localhost:8080/",
          "height": 354
        },
        "id": "3C2Fl4Dbawip",
        "outputId": "3e439f14-d7d3-4a85-d6fa-b783028e98b5"
      },
      "execution_count": 17,
      "outputs": [
        {
          "output_type": "execute_result",
          "data": {
            "text/plain": [
              "<BarContainer object of 7 artists>"
            ]
          },
          "metadata": {},
          "execution_count": 17
        },
        {
          "output_type": "display_data",
          "data": {
            "text/plain": [
              "<Figure size 576x360 with 1 Axes>"
            ],
            "image/png": "[encoded data removed]"
          },
          "metadata": {
            "needs_background": "light"
          }
        }
      ]
    },
    {
      "cell_type": "code",
      "source": [
        "plt.hist(x=df['TotalFloor'])\n"
      ],
      "metadata": {
        "colab": {
          "base_uri": "https://localhost:8080/",
          "height": 317
        },
        "id": "DAzoGaNJdVQe",
        "outputId": "657217fb-f264-45e1-8481-d9dcee0efaf5"
      },
      "execution_count": 18,
      "outputs": [
        {
          "output_type": "execute_result",
          "data": {
            "text/plain": [
              "(array([ 38., 230., 167., 126.,  46.,  20.,  15.,   2.,   0.,   1.]),\n",
              " array([ 1. ,  4.7,  8.4, 12.1, 15.8, 19.5, 23.2, 26.9, 30.6, 34.3, 38. ]),\n",
              " <a list of 10 Patch objects>)"
            ]
          },
          "metadata": {},
          "execution_count": 18
        },
        {
          "output_type": "display_data",
          "data": {
            "text/plain": [
              "<Figure size 432x288 with 1 Axes>"
            ],
            "image/png": "[encoded data removed]"
          },
          "metadata": {
            "needs_background": "light"
          }
        }
      ]
    },
    {
      "cell_type": "code",
      "source": [
        "sample = df.sample(n=200, random_state=42) #small sample\n",
        "plt.scatter(x=sample['Price'], y=sample['Sqft'])\n",
        "\n"
      ],
      "metadata": {
        "colab": {
          "base_uri": "https://localhost:8080/",
          "height": 282
        },
        "id": "tuuZZdamdVU7",
        "outputId": "b660f9b7-a746-4c3c-9e3e-ca0cd26d6e44"
      },
      "execution_count": 20,
      "outputs": [
        {
          "output_type": "execute_result",
          "data": {
            "text/plain": [
              "<matplotlib.collections.PathCollection at 0x7f6301092ed0>"
            ]
          },
          "metadata": {},
          "execution_count": 20
        },
        {
          "output_type": "display_data",
          "data": {
            "text/plain": [
              "<Figure size 432x288 with 1 Axes>"
            ],
            "image/png": "[encoded data removed]"
          },
          "metadata": {
            "needs_background": "light"
          }
        }
      ]
    },
    {
      "cell_type": "markdown",
      "source": [
        "# Seaborn  Visualization for the dataset of House Rental Prediction"
      ],
      "metadata": {
        "id": "s4EdRPYBglz5"
      }
    },
    {
      "cell_type": "code",
      "source": [
        "sns.heatmap(df.corr(),annot=True)\n"
      ],
      "metadata": {
        "colab": {
          "base_uri": "https://localhost:8080/",
          "height": 337
        },
        "id": "hZLkxrSaecz9",
        "outputId": "45c4131f-42bc-44a1-cab3-a969a17e4691"
      },
      "execution_count": 21,
      "outputs": [
        {
          "output_type": "execute_result",
          "data": {
            "text/plain": [
              "<matplotlib.axes._subplots.AxesSubplot at 0x7f6301044a10>"
            ]
          },
          "metadata": {},
          "execution_count": 21
        },
        {
          "output_type": "display_data",
          "data": {
            "text/plain": [
              "<Figure size 432x288 with 2 Axes>"
            ],
            "image/png": "[encoded data removed]"
          },
          "metadata": {
            "needs_background": "light"
          }
        }
      ]
    },
    {
      "cell_type": "markdown",
      "source": [
        "# Training the Data"
      ],
      "metadata": {
        "id": "IVDcmhvjqZF-"
      }
    },
    {
      "cell_type": "code",
      "source": [
        "from sklearn.model_selection import train_test_split"
      ],
      "metadata": {
        "id": "SbJ3TSpAerY7"
      },
      "execution_count": 35,
      "outputs": []
    },
    {
      "cell_type": "code",
      "source": [
        "X = df[['Unnamed: 0', 'Sqft', 'Floor', 'TotalFloor', 'Bedroom', 'Living.Room',\n",
        "       'Bathroom']]\n",
        "y = df['Price']"
      ],
      "metadata": {
        "id": "4Sx1L6HaerrN"
      },
      "execution_count": 34,
      "outputs": []
    },
    {
      "cell_type": "code",
      "source": [
        "a = df.drop('Price',axis =1)\n",
        "a.columns"
      ],
      "metadata": {
        "colab": {
          "base_uri": "https://localhost:8080/"
        },
        "id": "Zj1nI2fDiWWu",
        "outputId": "359ac559-d235-40ae-805e-0e8a24c093ba"
      },
      "execution_count": 40,
      "outputs": [
        {
          "output_type": "execute_result",
          "data": {
            "text/plain": [
              "Index(['Unnamed: 0', 'Sqft', 'Floor', 'TotalFloor', 'Bedroom', 'Living.Room',\n",
              "       'Bathroom'],\n",
              "      dtype='object')"
            ]
          },
          "metadata": {},
          "execution_count": 40
        }
      ]
    },
    {
      "cell_type": "code",
      "source": [
        "X_train, X_test, y_train, y_test = train_test_split(X,y,test_size=0.25, random_state = 0)"
      ],
      "metadata": {
        "id": "clUbU2vcjqeM"
      },
      "execution_count": 41,
      "outputs": []
    },
    {
      "cell_type": "markdown",
      "source": [
        "# Using the LinearRegression Model"
      ],
      "metadata": {
        "id": "T2XTQAm0qhwv"
      }
    },
    {
      "cell_type": "code",
      "source": [
        "from sklearn.linear_model import LinearRegression\n",
        "lr = LinearRegression()\n",
        "model = lr.fit(X_train,y_train)\n"
      ],
      "metadata": {
        "id": "A-NS6mA7jq2L"
      },
      "execution_count": 44,
      "outputs": []
    },
    {
      "cell_type": "code",
      "source": [
        "pred =lr.predict(X_train)"
      ],
      "metadata": {
        "id": "PxeS-VGHjcul"
      },
      "execution_count": 46,
      "outputs": []
    },
    {
      "cell_type": "code",
      "source": [
        "pred"
      ],
      "metadata": {
        "colab": {
          "base_uri": "https://localhost:8080/"
        },
        "id": "A-S3kIBOl-Ir",
        "outputId": "59817c70-917b-42b8-cf2c-d3bf6031da38"
      },
      "execution_count": 47,
      "outputs": [
        {
          "output_type": "execute_result",
          "data": {
            "text/plain": [
              "array([ 33778.57638814,  29430.16587249,  31900.8890849 ,  88196.06329945,\n",
              "        90451.25828805,  81348.59481344,  86049.58360025,  80811.88964203,\n",
              "        38377.72005131,  53573.82635521,  67634.65340457,  68275.05117736,\n",
              "        45374.50156693,  34066.53062097,  42287.69049856,  59098.82925034,\n",
              "        26959.22305741, 115829.73268683, 120929.59261   ,  58637.00756946,\n",
              "        55877.50951676,  54474.2957368 ,  84198.0092373 ,  65566.07345107,\n",
              "        41893.67575508,  49335.81140449,  62158.71373371,  70844.57813901,\n",
              "        78632.82504223,  31166.16445499,  29612.83310903,  76195.84302472,\n",
              "        93430.80318904,  36278.08947208,  40185.56396287,  74156.77332983,\n",
              "       118339.64404027,  59544.35627432, 118569.80003828,  36413.0465475 ,\n",
              "        27376.27508649,  56940.18434532,  58158.79224159,  60421.00315787,\n",
              "        29625.38737008,  76492.95915698,  76208.50482056,  48176.56774122,\n",
              "        69311.09132272,  54786.26597937, 100845.72042089, 112264.02902452,\n",
              "        49449.21534918,  85017.38167895,  30308.19217816,  79449.26778859,\n",
              "        58672.4759446 ,  28348.73072706,  32320.547347  ,  63747.00440538,\n",
              "        35304.13059318, 152202.49236335,  76182.57355181,  25622.49149176,\n",
              "        33547.80332969, 145415.51646412,  58635.52190314,  88346.7301882 ,\n",
              "        88694.86823625, 165734.44724411,  28275.31412803,  60134.31646123,\n",
              "        41590.26536342,  45375.18640689,  50635.84897872,  28525.91359156,\n",
              "        25509.41290428,  56617.15080167,  63361.11373516,  51432.67642827,\n",
              "       111806.83606909,  49568.42302365,  48181.1501184 ,  80590.35819012,\n",
              "        87614.17028118,  43518.18430595,  88597.70856868,  56414.15676734,\n",
              "        80645.47294513,  32210.29813959, 146800.50514777,  40693.80758955,\n",
              "        74179.70357415,  31576.73187829,  67505.16851114,  26444.45940268,\n",
              "        35987.73308136,  34995.95209505,  33797.76015812,  77112.06893214,\n",
              "        76537.159704  ,  82797.92386411, 115904.89073505,  25576.97059189,\n",
              "        57348.30322871,  69635.56630715,  58312.43532604,  55306.94532905,\n",
              "        40967.2678368 ,  67936.76426345,  69672.01817184,  41035.92202905,\n",
              "        42100.94381569,  29072.74386829,  54259.3940287 , 132999.66130326,\n",
              "        46525.2774657 , 172321.44290999,  72585.90550388,  90611.57164557,\n",
              "       127782.74473591,  69319.94525737,  76456.61287276,  59183.61185435,\n",
              "        33228.71917909,  31041.18785934,  51588.42946815,  57444.62247581,\n",
              "        60744.17352273,  43618.835788  ,  81598.26752709,  62905.42114676,\n",
              "        44534.97165428,  77015.25764484,  87160.95894216, 168359.12736105,\n",
              "        16298.25160027,  34720.23574603,  64865.94193162,  64085.03999233,\n",
              "       161053.40446495, 106512.24483457,  49336.81274101,  51130.59533759,\n",
              "        85412.89767815,  79004.86827413,  41577.71390175,  50249.61588852,\n",
              "        53929.03520842,  58413.11536322,  41482.78900124,  29603.09536878,\n",
              "        57163.34118794,  48761.31874211, 104012.81287124,  48889.9361269 ,\n",
              "        30144.42982028,  55586.63301508,  49695.11079214,  20341.96734389,\n",
              "        70918.07350911,  75191.12271267,  98275.64029344,  53277.93806497,\n",
              "        48872.1937158 ,  39680.65181553,  73288.90836873,  77566.41533642,\n",
              "        75300.79610294,  36633.17470302, 103226.18383769,  51845.63691112,\n",
              "        77833.86419794,  51042.08940517,  95543.23413921,  75216.08621141,\n",
              "        55069.54491983,  27033.69434967,  50534.39213979,  46432.08780831,\n",
              "        36950.67361419,  81538.36211877,  39299.60047539, 112534.41578342,\n",
              "        50155.59575123,  20151.62893852,  56800.28867825,  39860.47528194,\n",
              "        39925.23268278, 104539.68351054,  35775.01949247,  38210.77114088,\n",
              "        57034.72082446,  75440.98113108,  26877.12941523, 123935.15868896,\n",
              "        49616.56592084,  75079.89566804,  43197.18245679, 130884.89949446,\n",
              "        32606.61852771,  45707.80886091,  68880.56835635,  22052.4419439 ,\n",
              "        33350.43518753,  69688.76136919,  18755.4160059 ,  86208.64607925,\n",
              "        79142.91114436,  83473.43440309,  26586.16530553,  34760.58095536,\n",
              "        60080.05877971,  34922.50368075,  39594.74181047,  30452.66927439,\n",
              "        32682.4485966 ,  75806.55603515,  37473.28368937,  31120.58811307,\n",
              "        42589.87951277,  26932.72433308, 122888.7248655 ,  81117.43145948,\n",
              "        27838.40130799,  39240.5065144 ,  88801.99923252,  53820.32853187,\n",
              "        48527.31152877,  35709.14508365,  90308.49609101,  35506.13447739,\n",
              "        80663.29035821,  96948.76404087,  67951.04518111,  29066.41332782,\n",
              "        70423.86094834,  61172.37222907,  54216.2726667 ,  16506.28901256,\n",
              "        38617.37162751,  26713.99646341,  69920.62315367,  28656.29978774,\n",
              "        31975.60003595,  67133.61685054,  58220.40804322,  53082.19356229,\n",
              "        80932.05360055,  29792.57877052,  27473.86400337,  51194.13799532,\n",
              "        51587.59379315,  36411.29245494,  51743.89068659,  85204.07435307,\n",
              "        77916.67582126,  49771.01425012,  35720.02943417, 226760.32823471,\n",
              "        33939.51671128,  32498.89433358,  78727.5382453 ,  47806.42202895,\n",
              "        53327.61600019,  72025.79985507,  27561.76953297,  58507.70507242,\n",
              "        73038.24484387,  77024.30489639,  31200.83027528,  31636.48543155,\n",
              "        32817.31529305,  61438.39760235,  39909.30774901,  49046.07392198,\n",
              "        53922.65190769,  32331.54775507,  77019.36995916,  71174.57997261,\n",
              "        29342.61042326, 112700.24044172,  30281.36486286,  56341.06387541,\n",
              "        38864.3177395 ,  50088.33033053, 118450.33545281,  35937.04990386,\n",
              "        59798.51348958,  66791.1511796 ,  23756.82933676,  59575.22181455,\n",
              "        40602.82861079,  27700.59031413,  50647.01964609,  41780.53078949,\n",
              "        68479.51702065,  50057.19394815,  37644.39821611,  79805.96517855,\n",
              "       143120.11222598, 135867.65984636,  64246.41412715,  47968.55319524,\n",
              "        52431.85800358,  54696.95455433,  41973.9326124 ,  97972.13137156,\n",
              "        79563.71471825, 117926.0275932 ,  44546.11106278,  46781.20639731,\n",
              "        82831.79721493,  67311.2481645 ,  50473.55281755,  77062.89909188,\n",
              "        53936.02617074,  34159.91185592,  57294.61271051,  67006.71017966,\n",
              "        58678.90978801,  49144.62354138,  22914.35836222, 165753.71085694,\n",
              "        65938.34299716,  61210.19154081,  79650.80874404,  65213.09325542,\n",
              "        39704.52372979,  37904.36158079,  35398.13116787,  35267.3740203 ,\n",
              "        70016.94121783,  33663.50965888,  44835.88204892,  52276.10957789,\n",
              "       142643.66748801,  43933.55699293,  61720.85257959,  35082.51360867,\n",
              "        25490.67889512,  48168.16001943, 128401.50988204,  35498.08575482,\n",
              "        77451.84041425, 163152.66189534,  58408.65742792,  59149.31429462,\n",
              "       113428.38760898,  82153.94368107,  96171.98793454,  78327.77594802,\n",
              "        34811.51012893,  43242.14179476,  76910.87646807,  84998.11806612,\n",
              "        67460.74570046,  65149.00230575,  52738.64776735,  56124.77632799,\n",
              "        46184.15492383,  98083.86064945,  48900.85504934, 129169.72485969,\n",
              "        48750.68008524,  31970.77607669,  45102.07869507,  28916.8764546 ,\n",
              "       118322.95416953,  58175.75303556,  42450.69425945,  84532.18139994,\n",
              "        59792.96089546,  29509.07890139, 149500.20809614,  64133.91865474,\n",
              "       131444.15797475,  55465.63069772,  29531.54091425,  62027.6466662 ,\n",
              "        57020.11348691,  39589.18693883, 129805.42408309,  93664.32862684,\n",
              "        61100.77526197,  65250.91078315,  32800.03577235,  48191.24783866,\n",
              "       128883.02984973,  21617.6742277 ,  24953.34798754,  48983.80248758,\n",
              "        35746.12407322,  58518.57624598,  51981.40521539,  83311.86149392,\n",
              "        82794.36407067,  61605.53794646,  63662.26078351,  67550.36460845,\n",
              "        80649.52871021,  99791.29165773,  29332.8026415 ,  34780.90077488,\n",
              "        56314.4914268 ,  64080.48240119,  32107.93501025,  42279.82691704,\n",
              "        39844.74032743,  81428.50349731,  33312.95754719,  36187.83520323,\n",
              "        67929.2626645 , 100670.76924271,  54890.53218502,  50228.78952115,\n",
              "        63984.58774273,  54481.86871874,  33104.74023459,  47464.0230602 ,\n",
              "        70803.02292648,  57185.9366873 ,  89673.53110655,  39557.89344778,\n",
              "        28474.24323714,  53269.82432572,  62637.94166467,  58871.08009812,\n",
              "        80450.6841283 ,  35277.23325185,  68940.27657929,  39427.96272763,\n",
              "        39993.98000337,  54050.23809589,  50309.6102124 ,  51411.14656546,\n",
              "        66804.06613004,  76629.98538823,  46045.47340348,  57674.47234049,\n",
              "        41979.27693677,  30051.03852627,  72280.65592324,  55829.96599245,\n",
              "        34592.42329837,  32864.4247907 ,  49844.81881885,  26564.5137756 ,\n",
              "        43440.57645302,  49195.57104808,  86362.0354472 ,  77000.57212911,\n",
              "        92730.46876542,  56667.15646087,  57433.1090825 ,  39739.85148364,\n",
              "        42960.64284651,  90327.90587007, 197365.53225301,  46482.59314004,\n",
              "        80373.62967697,  62567.45324918,  92854.03636761,  64767.44598946,\n",
              "        72179.90875771,  52006.00970942,  88574.6921652 ,  34148.2283864 ,\n",
              "        72570.24182124,  65397.04062415,  34907.34462356,  59159.82539252,\n",
              "        72840.3457785 ,  40372.91702608,  63533.69966128,  44620.13308774,\n",
              "        76742.0390443 ,  71061.81935424,  55111.74087518,  79842.10870431,\n",
              "        97069.43320309,  58102.8656859 ,  36089.4766469 ])"
            ]
          },
          "metadata": {},
          "execution_count": 47
        }
      ]
    },
    {
      "cell_type": "markdown",
      "source": [
        "# Predicting the Data"
      ],
      "metadata": {
        "id": "7ClM3Cb1qtC2"
      }
    },
    {
      "cell_type": "code",
      "source": [
        "pred_data = pd.DataFrame({'actual_data': y_train,'pred_data': pred})\n",
        "pred_data"
      ],
      "metadata": {
        "colab": {
          "base_uri": "https://localhost:8080/",
          "height": 424
        },
        "id": "dKvSeuKQl-NE",
        "outputId": "7d694c2f-0b24-4049-ead9-dd6f6885b9c5"
      },
      "execution_count": 52,
      "outputs": [
        {
          "output_type": "execute_result",
          "data": {
            "text/plain": [
              "     actual_data     pred_data\n",
              "118        22000  33778.576388\n",
              "235        36000  29430.165872\n",
              "449        36000  31900.889085\n",
              "175        82000  88196.063299\n",
              "356        55000  90451.258288\n",
              "..           ...           ...\n",
              "9          65000  55111.740875\n",
              "359        98000  79842.108704\n",
              "192        75000  97069.433203\n",
              "629        45000  58102.865686\n",
              "559        35000  36089.476647\n",
              "\n",
              "[483 rows x 2 columns]"
            ],
            "text/html": [
              "\n",
              "  <div id=\"df-3bd7e50c-b681-4137-8fb9-77394918df10\">\n",
              "    <div class=\"colab-df-container\">\n",
              "      <div>\n",
              "<style scoped>\n",
              "    .dataframe tbody tr th:only-of-type {\n",
              "        vertical-align: middle;\n",
              "    }\n",
              "\n",
              "    .dataframe tbody tr th {\n",
              "        vertical-align: top;\n",
              "    }\n",
              "\n",
              "    .dataframe thead th {\n",
              "        text-align: right;\n",
              "    }\n",
              "</style>\n",
              "<table border=\"1\" class=\"dataframe\">\n",
              "  <thead>\n",
              "    <tr style=\"text-align: right;\">\n",
              "      <th></th>\n",
              "      <th>actual_data</th>\n",
              "      <th>pred_data</th>\n",
              "    </tr>\n",
              "  </thead>\n",
              "  <tbody>\n",
              "    <tr>\n",
              "      <th>118</th>\n",
              "      <td>22000</td>\n",
              "      <td>33778.576388</td>\n",
              "    </tr>\n",
              "    <tr>\n",
              "      <th>235</th>\n",
              "      <td>36000</td>\n",
              "      <td>29430.165872</td>\n",
              "    </tr>\n",
              "    <tr>\n",
              "      <th>449</th>\n",
              "      <td>36000</td>\n",
              "      <td>31900.889085</td>\n",
              "    </tr>\n",
              "    <tr>\n",
              "      <th>175</th>\n",
              "      <td>82000</td>\n",
              "      <td>88196.063299</td>\n",
              "    </tr>\n",
              "    <tr>\n",
              "      <th>356</th>\n",
              "      <td>55000</td>\n",
              "      <td>90451.258288</td>\n",
              "    </tr>\n",
              "    <tr>\n",
              "      <th>...</th>\n",
              "      <td>...</td>\n",
              "      <td>...</td>\n",
              "    </tr>\n",
              "    <tr>\n",
              "      <th>9</th>\n",
              "      <td>65000</td>\n",
              "      <td>55111.740875</td>\n",
              "    </tr>\n",
              "    <tr>\n",
              "      <th>359</th>\n",
              "      <td>98000</td>\n",
              "      <td>79842.108704</td>\n",
              "    </tr>\n",
              "    <tr>\n",
              "      <th>192</th>\n",
              "      <td>75000</td>\n",
              "      <td>97069.433203</td>\n",
              "    </tr>\n",
              "    <tr>\n",
              "      <th>629</th>\n",
              "      <td>45000</td>\n",
              "      <td>58102.865686</td>\n",
              "    </tr>\n",
              "    <tr>\n",
              "      <th>559</th>\n",
              "      <td>35000</td>\n",
              "      <td>36089.476647</td>\n",
              "    </tr>\n",
              "  </tbody>\n",
              "</table>\n",
              "<p>483 rows × 2 columns</p>\n",
              "</div>\n",
              "      <button class=\"colab-df-convert\" onclick=\"convertToInteractive('df-3bd7e50c-b681-4137-8fb9-77394918df10')\"\n",
              "              title=\"Convert this dataframe to an interactive table.\"\n",
              "              style=\"display:none;\">\n",
              "        \n",
              "  <svg xmlns=\"http://www.w3.org/2000/svg\" height=\"24px\"viewBox=\"0 0 24 24\"\n",
              "       width=\"24px\">\n",
              "    <path d=\"M0 0h24v24H0V0z\" fill=\"none\"/>\n",
              "    <path d=\"M18.56 5.44l.94 2.06.94-2.06 2.06-.94-2.06-.94-.94-2.06-.94 2.06-2.06.94zm-11 1L8.5 8.5l.94-2.06 2.06-.94-2.06-.94L8.5 2.5l-.94 2.06-2.06.94zm10 10l.94 2.06.94-2.06 2.06-.94-2.06-.94-.94-2.06-.94 2.06-2.06.94z\"/><path d=\"M17.41 7.96l-1.37-1.37c-.4-.4-.92-.59-1.43-.59-.52 0-1.04.2-1.43.59L10.3 9.45l-7.72 7.72c-.78.78-.78 2.05 0 2.83L4 21.41c.39.39.9.59 1.41.59.51 0 1.02-.2 1.41-.59l7.78-7.78 2.81-2.81c.8-.78.8-2.07 0-2.86zM5.41 20L4 18.59l7.72-7.72 1.47 1.35L5.41 20z\"/>\n",
              "  </svg>\n",
              "      </button>\n",
              "      \n",
              "  <style>\n",
              "    .colab-df-container {\n",
              "      display:flex;\n",
              "      flex-wrap:wrap;\n",
              "      gap: 12px;\n",
              "    }\n",
              "\n",
              "    .colab-df-convert {\n",
              "      background-color: #E8F0FE;\n",
              "      border: none;\n",
              "      border-radius: 50%;\n",
              "      cursor: pointer;\n",
              "      display: none;\n",
              "      fill: #1967D2;\n",
              "      height: 32px;\n",
              "      padding: 0 0 0 0;\n",
              "      width: 32px;\n",
              "    }\n",
              "\n",
              "    .colab-df-convert:hover {\n",
              "      background-color: #E2EBFA;\n",
              "      box-shadow: 0px 1px 2px rgba(60, 64, 67, 0.3), 0px 1px 3px 1px rgba(60, 64, 67, 0.15);\n",
              "      fill: #174EA6;\n",
              "    }\n",
              "\n",
              "    [theme=dark] .colab-df-convert {\n",
              "      background-color: #3B4455;\n",
              "      fill: #D2E3FC;\n",
              "    }\n",
              "\n",
              "    [theme=dark] .colab-df-convert:hover {\n",
              "      background-color: #434B5C;\n",
              "      box-shadow: 0px 1px 3px 1px rgba(0, 0, 0, 0.15);\n",
              "      filter: drop-shadow(0px 1px 2px rgba(0, 0, 0, 0.3));\n",
              "      fill: #FFFFFF;\n",
              "    }\n",
              "  </style>\n",
              "\n",
              "      <script>\n",
              "        const buttonEl =\n",
              "          document.querySelector('#df-3bd7e50c-b681-4137-8fb9-77394918df10 button.colab-df-convert');\n",
              "        buttonEl.style.display =\n",
              "          google.colab.kernel.accessAllowed ? 'block' : 'none';\n",
              "\n",
              "        async function convertToInteractive(key) {\n",
              "          const element = document.querySelector('#df-3bd7e50c-b681-4137-8fb9-77394918df10');\n",
              "          const dataTable =\n",
              "            await google.colab.kernel.invokeFunction('convertToInteractive',\n",
              "                                                     [key], {});\n",
              "          if (!dataTable) return;\n",
              "\n",
              "          const docLinkHtml = 'Like what you see? Visit the ' +\n",
              "            '<a target=\"_blank\" href=https://colab.research.google.com/notebooks/data_table.ipynb>data table notebook</a>'\n",
              "            + ' to learn more about interactive tables.';\n",
              "          element.innerHTML = '';\n",
              "          dataTable['output_type'] = 'display_data';\n",
              "          await google.colab.output.renderOutput(dataTable, element);\n",
              "          const docLink = document.createElement('div');\n",
              "          docLink.innerHTML = docLinkHtml;\n",
              "          element.appendChild(docLink);\n",
              "        }\n",
              "      </script>\n",
              "    </div>\n",
              "  </div>\n",
              "  "
            ]
          },
          "metadata": {},
          "execution_count": 52
        }
      ]
    },
    {
      "cell_type": "code",
      "source": [
        ""
      ],
      "metadata": {
        "id": "BDW6_ABdl-Tf"
      },
      "execution_count": 52,
      "outputs": []
    }
  ],
  "metadata": {
    "colab": {
      "collapsed_sections": [],
      "name": "House Rental Prediction",
      "provenance": []
    },
    "kernelspec": {
      "display_name": "Python 3",
      "name": "python3"
    }
  },
  "nbformat": 4,
  "nbformat_minor": 0
}