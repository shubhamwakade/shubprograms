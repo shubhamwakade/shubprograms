{
 "cells": [
  {
   "cell_type": "code",
   "execution_count": 31,
   "id": "ffc59ed0",
   "metadata": {
    "scrolled": false
   },
   "outputs": [
    {
     "name": "stdout",
     "output_type": "stream",
     "text": [
      "Entre the list:[(5, 7), (12, 4), (20, 13), (45, 2)]\n",
      "Sample List:[(5, 7), (12, 4), (20, 13), (45, 2)]\n",
      "Expexted List:[(45, 2), (12, 4), (5, 7), (20, 13)]\n"
     ]
    }
   ],
   "source": [
    "sample=eval(input(\"Entre the list:\"))\n",
    "print(\"Sample List:\" + str(sample))\n",
    "sample.sort(key = lambda x: x[-1])\n",
    "print(\"Expexted List:\"+str(sample))"
   ]
  },
  {
   "cell_type": "code",
   "execution_count": null,
   "id": "bf8760e9",
   "metadata": {},
   "outputs": [],
   "source": []
  }
 ],
 "metadata": {
  "kernelspec": {
   "display_name": "Python 3 (ipykernel)",
   "language": "python",
   "name": "python3"
  },
  "language_info": {
   "codemirror_mode": {
    "name": "ipython",
    "version": 3
   },
   "file_extension": ".py",
   "mimetype": "text/x-python",
   "name": "python",
   "nbconvert_exporter": "python",
   "pygments_lexer": "ipython3",
   "version": "3.9.13"
  }
 },
 "nbformat": 4,
 "nbformat_minor": 5
}
