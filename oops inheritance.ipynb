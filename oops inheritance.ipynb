{
 "cells": [
  {
   "cell_type": "code",
   "execution_count": 12,
   "id": "0f65ad0f",
   "metadata": {},
   "outputs": [],
   "source": [
    "class Employee:\n",
    "    #emp_count=0\n",
    "    def __init__(self,emp_id,name,salary,department,designation,contact,gender):\n",
    "        self.emp_id=emp_id\n",
    "        self.name=name\n",
    "        self.salary=salary\n",
    "        self.department=department\n",
    "        self.designation=designation\n",
    "        self.contact=contact\n",
    "        self.gender=gender\n",
    "        \n",
    "       # Employee.emp_contact+=1\n",
    "    def dispaly_emp_details(self):\n",
    "        print(\" EMP_ID:{}\\n Name:{}\\n SALARY:{}\\n DEPARTMENT:{}\\n DESIGNATION:{}\\n CONTACT:{}\\n GENDER:{}\".format(self.emp_id,self.name,self.salary,self.department,self.designation,self.contact,self.gender))"
   ]
  },
  {
   "cell_type": "code",
   "execution_count": 13,
   "id": "27db2f26",
   "metadata": {},
   "outputs": [],
   "source": [
    "SHUBHAM=Employee(1,\"shubham\",\"12lpa\",\"product\",\"SDE\",8445685,\"M\")"
   ]
  },
  {
   "cell_type": "code",
   "execution_count": 14,
   "id": "26bcda2b",
   "metadata": {},
   "outputs": [
    {
     "name": "stdout",
     "output_type": "stream",
     "text": [
      " EMP_ID:1\n",
      " Name:shubham\n",
      " SALARY:12lpa\n",
      " DEPARTMENT:product\n",
      " DESIGNATION:SDE\n",
      " CONTACT:8445685\n",
      " GENDER:M\n"
     ]
    }
   ],
   "source": [
    "SHUBHAM.dispaly_emp_details()"
   ]
  },
  {
   "cell_type": "code",
   "execution_count": 17,
   "id": "09332b04",
   "metadata": {},
   "outputs": [
    {
     "data": {
      "text/plain": [
       "8445685"
      ]
     },
     "execution_count": 17,
     "metadata": {},
     "output_type": "execute_result"
    }
   ],
   "source": [
    "SHUBHAM.contact"
   ]
  },
  {
   "cell_type": "code",
   "execution_count": 24,
   "id": "c9084aea",
   "metadata": {},
   "outputs": [],
   "source": [
    "raju=Employee(2,\"raju\",\"86k\",\"system\",\"sde2\",6587496,\"M\")"
   ]
  },
  {
   "cell_type": "code",
   "execution_count": 19,
   "id": "1585b80e",
   "metadata": {},
   "outputs": [
    {
     "data": {
      "text/plain": [
       "'86k'"
      ]
     },
     "execution_count": 19,
     "metadata": {},
     "output_type": "execute_result"
    }
   ],
   "source": [
    "raju.salary"
   ]
  },
  {
   "cell_type": "code",
   "execution_count": 23,
   "id": "d53191a2",
   "metadata": {},
   "outputs": [
    {
     "name": "stdout",
     "output_type": "stream",
     "text": [
      " EMP_ID:2\n",
      " Name:raju\n",
      " SALARY:86k\n",
      " DEPARTMENT:system\n",
      " DESIGNATION:sde2\n",
      " CONTACT:6587496\n",
      " GENDER:m\n"
     ]
    }
   ],
   "source": [
    "raju.dispaly_emp_details()"
   ]
  },
  {
   "cell_type": "code",
   "execution_count": 79,
   "id": "98b750f0",
   "metadata": {},
   "outputs": [],
   "source": [
    "class Employee:\n",
    "    emp_count=1\n",
    "    company_name=\"dell\"\n",
    "    def __init__(self,name,salary,department,designation,contact,gender):\n",
    "        self.emp_id= Employee.emp_count\n",
    "        Employee.emp_count+=1\n",
    "        self.name=name\n",
    "        self.salary=salary\n",
    "        self.department=department\n",
    "        self.designation=designation\n",
    "        self.contact=contact\n",
    "        self.gender=gender\n",
    "        self.company_name=Employee.company_name\n",
    "        \n",
    "#         Employee.emp_count+=1\n",
    "    def dispaly_emp_details(self):\n",
    "        print(\" EMP_ID:{}\\n Name:{}\\n SALARY:{}\\n DEPARTMENT:{}\\n DESIGNATION:{}\\n CONTACT:{}\\n GENDER:{}\\n Company Name:{}\".format(self.emp_id,self.name,self.salary,self.department,self.designation,self.contact,self.gender,self.company_name))"
   ]
  },
  {
   "cell_type": "code",
   "execution_count": 80,
   "id": "07513f77",
   "metadata": {},
   "outputs": [],
   "source": [
    "shubham=Employee(\"shubham\",25000,\"product\",\"sde1\",8754699,\"m\")"
   ]
  },
  {
   "cell_type": "code",
   "execution_count": 81,
   "id": "39e95ab7",
   "metadata": {},
   "outputs": [
    {
     "name": "stdout",
     "output_type": "stream",
     "text": [
      " EMP_ID:1\n",
      " Name:shubham\n",
      " SALARY:25000\n",
      " DEPARTMENT:product\n",
      " DESIGNATION:sde1\n",
      " CONTACT:8754699\n",
      " GENDER:m\n",
      " Company Name:dell\n"
     ]
    }
   ],
   "source": [
    "shubham.dispaly_emp_details()"
   ]
  },
  {
   "cell_type": "code",
   "execution_count": 120,
   "id": "df9c80f8",
   "metadata": {},
   "outputs": [],
   "source": [
    "class Employee:\n",
    "    #emp_count=0\n",
    "    def __init__(self,emp_id,name,salary,department,designation,contact,gender):\n",
    "        self.emp_id=emp_id\n",
    "        self.name=name\n",
    "        self.salary=salary\n",
    "        self.department=department\n",
    "        self.designation=designation\n",
    "        self.contact=contact\n",
    "        self.gender=gender\n",
    "        \n",
    "       # Employee.emp_contact+=1\n",
    "    def display_emp_details(self):\n",
    "        print(\" EMP_ID:{}\\n Name:{}\\n SALARY:{}\\n DEPARTMENT:{}\\n DESIGNATION:{}\\n CONTACT:{}\\n GENDER:{}\".format(self.emp_id,self.name,self.salary,self.department,self.designation,self.contact,self.gender))"
   ]
  },
  {
   "cell_type": "code",
   "execution_count": 121,
   "id": "1d6245a6",
   "metadata": {},
   "outputs": [],
   "source": [
    "class Manager(Employee):\n",
    "    def __init__(self,emp_id,name,salary,department,contact,gender,num_of_subordinates):\n",
    "        Employee.__init__(self,emp_id,name,salary,department,\"Manager\",contact,gender)\n",
    "        self.num_of_subordinates=num_of_subordinates\n",
    "    def display_emp_details(self):\n",
    "        Employee.display_emp_details(self)\n",
    "        print(\"SUBORDINATES\",self.num_of_subordinates)"
   ]
  },
  {
   "cell_type": "code",
   "execution_count": 122,
   "id": "3c7c3b8d",
   "metadata": {},
   "outputs": [],
   "source": [
    "bharat=Manager(1,\"bharat\",\"16LPA\",\"Product\",\"859674\",\"m\",25)"
   ]
  },
  {
   "cell_type": "code",
   "execution_count": 123,
   "id": "856aa2c7",
   "metadata": {},
   "outputs": [
    {
     "name": "stdout",
     "output_type": "stream",
     "text": [
      " EMP_ID:1\n",
      " Name:bharat\n",
      " SALARY:16LPA\n",
      " DEPARTMENT:Product\n",
      " DESIGNATION:Manager\n",
      " CONTACT:859674\n",
      " GENDER:m\n",
      "SUBORDINATES 25\n"
     ]
    }
   ],
   "source": [
    "bharat.display_emp_details()"
   ]
  },
  {
   "cell_type": "code",
   "execution_count": 124,
   "id": "e282e184",
   "metadata": {},
   "outputs": [],
   "source": [
    "class Employee:\n",
    "    #emp_count=0\n",
    "    def __init__(self,emp_id,name,salary,department,designation,contact,gender):\n",
    "        self.emp_id=emp_id\n",
    "        self.name=name\n",
    "        self.salary=salary\n",
    "        self.department=department\n",
    "        self.designation=designation\n",
    "        self.contact=contact\n",
    "        self.gender=gender\n",
    "        \n",
    "       # Employee.emp_contact+=1\n",
    "    def display_emp_details(self):\n",
    "        print(\" EMP_ID:{}\\n Name:{}\\n SALARY:{}\\n DEPARTMENT:{}\\n DESIGNATION:{}\\n CONTACT:{}\\n GENDER:{}\".format(self.emp_id,self.name,self.salary,self.department,self.designation,self.contact,self.gender))"
   ]
  },
  {
   "cell_type": "code",
   "execution_count": 125,
   "id": "ea5e4154",
   "metadata": {},
   "outputs": [],
   "source": [
    "class Manager(Employee):\n",
    "    def __init__(self,emp_id,name,salary,department,contact,gender,num_of_subordinates):\n",
    "        Employee.__init__(self,emp_id,name,salary,department,\"Manager\",contact,gender)\n",
    "        self.num_of_subordinates=num_of_subordinates\n",
    "    def display_emp_details(self):\n",
    "        Employee.display_emp_details(self)\n",
    "        print(\"SUBORDINATES\",self.num_of_subordinates)"
   ]
  },
  {
   "cell_type": "code",
   "execution_count": 133,
   "id": "3c40c3a4",
   "metadata": {},
   "outputs": [],
   "source": [
    "class Director(Employee):\n",
    "    def __init__(self,emp_id,name,salary,department,contact,gender,num_of_managers):\n",
    "        Employee.__init__(self,emp_id,name,salary,department,\"Director\",contact,gender)\n",
    "        self.num_of_managers=num_of_managers\n",
    "    def display_emp_details(self):\n",
    "        Employee.display_emp_details(self)\n",
    "        print(\"num_of_managers\",self.num_of_managers)\n",
    "        \n"
   ]
  },
  {
   "cell_type": "code",
   "execution_count": 134,
   "id": "5047970d",
   "metadata": {},
   "outputs": [],
   "source": [
    "rahul=Director(26,\"rahul\",\"65Lpa\",\"Product\",\"8456789\",\"m\",5)"
   ]
  },
  {
   "cell_type": "code",
   "execution_count": 136,
   "id": "338babdd",
   "metadata": {},
   "outputs": [
    {
     "name": "stdout",
     "output_type": "stream",
     "text": [
      " EMP_ID:26\n",
      " Name:rahul\n",
      " SALARY:65Lpa\n",
      " DEPARTMENT:Product\n",
      " DESIGNATION:Director\n",
      " CONTACT:8456789\n",
      " GENDER:m\n",
      "num_of_managers 5\n"
     ]
    }
   ],
   "source": [
    "rahul.display_emp_details()"
   ]
  },
  {
   "cell_type": "markdown",
   "id": "b614bf0c",
   "metadata": {},
   "source": [
    "### Create a class Student of Edyoda institute.where every object stores details of that student . Also have a display_student_details method to get details of student. Have a class variable institute_name as \"Edyoda\" Create student id on the basis of the number of objects/students that have been created so far\n",
    "\n",
    "shubham: student_id = 1 rahul: student_id = 2 namratha = student_id = 3"
   ]
  },
  {
   "cell_type": "code",
   "execution_count": 139,
   "id": "05eaf00a",
   "metadata": {},
   "outputs": [],
   "source": [
    "class Student:\n",
    "    institute_name=\"Edyoda\"\n",
    "    student_count=1\n",
    "    def __init__(self,name,age,degree):\n",
    "        self.student_id=Student.student_count\n",
    "        Student.student_count+=1\n",
    "        self.name=name\n",
    "        self.age=age\n",
    "        self.degree=degree\n",
    "        self.institute=Student.institute_name\n",
    "    \n",
    "    def display_student_details(self):\n",
    "        print(\"student_id:{}\\nname:{}\\nage:{}\\ndegree:{}\\ninstitute:{}\".format(self.student_id,self.name,self.age,self.degree,self.institute))"
   ]
  },
  {
   "cell_type": "code",
   "execution_count": 140,
   "id": "f0bd5d34",
   "metadata": {},
   "outputs": [],
   "source": [
    "shubham=Student(\"Shubham\",22,\"Btech\")"
   ]
  },
  {
   "cell_type": "code",
   "execution_count": 142,
   "id": "21b6cac2",
   "metadata": {},
   "outputs": [
    {
     "name": "stdout",
     "output_type": "stream",
     "text": [
      "student_id:1\n",
      "name:Shubham\n",
      "age:22\n",
      "degree:Btech\n",
      "institute:Edyoda\n"
     ]
    }
   ],
   "source": [
    "shubham.display_student_details()"
   ]
  },
  {
   "cell_type": "code",
   "execution_count": 143,
   "id": "019d6ec3",
   "metadata": {},
   "outputs": [],
   "source": [
    "rahul=Student(\"rahul\",28,\"mtech\")"
   ]
  },
  {
   "cell_type": "code",
   "execution_count": 144,
   "id": "1cb8c329",
   "metadata": {},
   "outputs": [
    {
     "name": "stdout",
     "output_type": "stream",
     "text": [
      "student_id:2\n",
      "name:rahul\n",
      "age:28\n",
      "degree:mtech\n",
      "institute:Edyoda\n"
     ]
    }
   ],
   "source": [
    "rahul.display_student_details()"
   ]
  },
  {
   "cell_type": "code",
   "execution_count": 145,
   "id": "b30c9952",
   "metadata": {},
   "outputs": [],
   "source": [
    "namratha=Student(\"namratha\",28,\"mtech\")"
   ]
  },
  {
   "cell_type": "code",
   "execution_count": 146,
   "id": "4e845617",
   "metadata": {},
   "outputs": [
    {
     "name": "stdout",
     "output_type": "stream",
     "text": [
      "student_id:3\n",
      "name:namratha\n",
      "age:28\n",
      "degree:mtech\n",
      "institute:Edyoda\n"
     ]
    }
   ],
   "source": [
    "namratha.display_student_details()"
   ]
  },
  {
   "cell_type": "markdown",
   "id": "4e361ca0",
   "metadata": {},
   "source": [
    "# # Execution order in case of multiple inheritance "
   ]
  },
  {
   "cell_type": "code",
   "execution_count": 148,
   "id": "1981fa05",
   "metadata": {},
   "outputs": [],
   "source": [
    "class A:\n",
    "    def m1(self):\n",
    "        print(\"A class method called\")\n",
    "class B:\n",
    "    def m1(self):\n",
    "        print(\"B class method called\")\n",
    "class C(A,B):\n",
    "    pass"
   ]
  },
  {
   "cell_type": "code",
   "execution_count": 150,
   "id": "5b5bf8a8",
   "metadata": {},
   "outputs": [],
   "source": [
    "c=C()"
   ]
  },
  {
   "cell_type": "code",
   "execution_count": 151,
   "id": "aec865f0",
   "metadata": {},
   "outputs": [
    {
     "name": "stdout",
     "output_type": "stream",
     "text": [
      "A class method called\n"
     ]
    }
   ],
   "source": [
    "c.m1()"
   ]
  },
  {
   "cell_type": "code",
   "execution_count": 155,
   "id": "4b5fc935",
   "metadata": {},
   "outputs": [],
   "source": [
    "class Students:\n",
    "    institute=\"Edyoda\"\n",
    "    def __init__(self,name,age):\n",
    "        self.name=name\n",
    "        self.age=age\n",
    "    def display_student(self):\n",
    "        print(\"Name:\",self.name)\n",
    "        print(\"age:\",self.age)\n",
    "        print(\"Institute:\",Students.institute)\n",
    "    def update_institute(self,institute):\n",
    "        Students.institute=institute\n",
    "    "
   ]
  },
  {
   "cell_type": "code",
   "execution_count": 156,
   "id": "7ebc1de9",
   "metadata": {},
   "outputs": [],
   "source": [
    "st1=Students(\"Jafar\",32)"
   ]
  },
  {
   "cell_type": "code",
   "execution_count": 159,
   "id": "67f550df",
   "metadata": {},
   "outputs": [
    {
     "name": "stdout",
     "output_type": "stream",
     "text": [
      "Name: Jafar\n",
      "age: 32\n",
      "Institute: Edyoda\n"
     ]
    }
   ],
   "source": [
    "st1.display_student()"
   ]
  },
  {
   "cell_type": "code",
   "execution_count": 160,
   "id": "e56e774d",
   "metadata": {},
   "outputs": [],
   "source": [
    "st1.update_institute(\"mit\")"
   ]
  },
  {
   "cell_type": "code",
   "execution_count": 161,
   "id": "44ae8866",
   "metadata": {},
   "outputs": [
    {
     "name": "stdout",
     "output_type": "stream",
     "text": [
      "Name: Jafar\n",
      "age: 32\n",
      "Institute: mit\n"
     ]
    }
   ],
   "source": [
    "st1.display_student()"
   ]
  },
  {
   "cell_type": "code",
   "execution_count": 162,
   "id": "3110afdd",
   "metadata": {},
   "outputs": [
    {
     "data": {
      "text/plain": [
       "'mit'"
      ]
     },
     "execution_count": 162,
     "metadata": {},
     "output_type": "execute_result"
    }
   ],
   "source": [
    "Students.institute"
   ]
  },
  {
   "cell_type": "code",
   "execution_count": 163,
   "id": "7fab89ee",
   "metadata": {},
   "outputs": [
    {
     "ename": "AttributeError",
     "evalue": "type object 'Students' has no attribute 'age'",
     "output_type": "error",
     "traceback": [
      "\u001b[1;31m---------------------------------------------------------------------------\u001b[0m",
      "\u001b[1;31mAttributeError\u001b[0m                            Traceback (most recent call last)",
      "\u001b[1;32m~\\AppData\\Local\\Temp\\ipykernel_19828\\3431515389.py\u001b[0m in \u001b[0;36m<module>\u001b[1;34m\u001b[0m\n\u001b[1;32m----> 1\u001b[1;33m \u001b[0mStudents\u001b[0m\u001b[1;33m.\u001b[0m\u001b[0mage\u001b[0m\u001b[1;33m\u001b[0m\u001b[1;33m\u001b[0m\u001b[0m\n\u001b[0m",
      "\u001b[1;31mAttributeError\u001b[0m: type object 'Students' has no attribute 'age'"
     ]
    }
   ],
   "source": [
    "Students.age"
   ]
  },
  {
   "cell_type": "code",
   "execution_count": null,
   "id": "a84ad6b5",
   "metadata": {},
   "outputs": [],
   "source": []
  }
 ],
 "metadata": {
  "kernelspec": {
   "display_name": "Python 3 (ipykernel)",
   "language": "python",
   "name": "python3"
  },
  "language_info": {
   "codemirror_mode": {
    "name": "ipython",
    "version": 3
   },
   "file_extension": ".py",
   "mimetype": "text/x-python",
   "name": "python",
   "nbconvert_exporter": "python",
   "pygments_lexer": "ipython3",
   "version": "3.9.13"
  }
 },
 "nbformat": 4,
 "nbformat_minor": 5
}
