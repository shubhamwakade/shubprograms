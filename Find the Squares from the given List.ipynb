{
 "cells": [
  {
   "cell_type": "markdown",
   "id": "db7f4f7f",
   "metadata": {},
   "source": [
    "# # Write a Python program to square the elements of a list using map() function.\n",
    "Sample List: [4, 5, 2, 9]\n",
    "\n",
    "Square the elements of the list:\n",
    "\n",
    "[16, 25, 4, 81]"
   ]
  },
  {
   "cell_type": "code",
   "execution_count": 6,
   "id": "e65e44e4",
   "metadata": {},
   "outputs": [
    {
     "name": "stdout",
     "output_type": "stream",
     "text": [
      "Sample List: [4, 5, 2, 9]\n",
      "Square the elements of the list: [16, 25, 4, 81]\n"
     ]
    }
   ],
   "source": [
    "Numbers = [4,5,2,9]\n",
    "#function define\n",
    "def square(Number):\n",
    "    return Number * Number\n",
    "# apply square() to each item of the numbers list\n",
    "Square_Numbers_A = map(square, Numbers)\n",
    "# converting to list\n",
    "Square_Numbers = list(Square_Numbers_A)\n",
    "print(\"Sample List:\",Numbers)\n",
    "print(\"Square the elements of the list:\",Square_Numbers)"
   ]
  },
  {
   "cell_type": "code",
   "execution_count": 1,
   "id": "401f93f5",
   "metadata": {},
   "outputs": [],
   "source": [
    "text = \"\"\"Ross McFluff: 834.345.1254 155 Elm Street\n",
    " Ronald Heathmore: 892.345.3428 436 Finley Avenue\n",
    " Frank Burger: 925.541.7625 662 South Dogwood Way\n",
    " Heather Albrecht: 548.326.4584 919 Park Place\"\"\"\n",
    " \n",
    "    "
   ]
  },
  {
   "cell_type": "code",
   "execution_count": 3,
   "id": "c1e8d83f",
   "metadata": {},
   "outputs": [
    {
     "name": "stdout",
     "output_type": "stream",
     "text": [
      "Ross McFluff: 834.345.1254 155 Elm Street\n",
      " Ronald Heathmore: 892.345.3428 436 Finley Avenue\n",
      " Frank Burger: 925.541.7625 662 South Dogwood Way\n",
      " Heather Albrecht: 548.326.4584 919 Park Place\n"
     ]
    }
   ],
   "source": [
    "print(text)"
   ]
  },
  {
   "cell_type": "code",
   "execution_count": 41,
   "id": "fbd8705a",
   "metadata": {},
   "outputs": [
    {
     "ename": "NameError",
     "evalue": "name 'text_1' is not defined",
     "output_type": "error",
     "traceback": [
      "\u001b[1;31m---------------------------------------------------------------------------\u001b[0m",
      "\u001b[1;31mNameError\u001b[0m                                 Traceback (most recent call last)",
      "\u001b[1;32m~\\AppData\\Local\\Temp\\ipykernel_27960\\66621741.py\u001b[0m in \u001b[0;36m<module>\u001b[1;34m\u001b[0m\n\u001b[1;32m----> 1\u001b[1;33m \u001b[1;32mfor\u001b[0m \u001b[0mtext\u001b[0m \u001b[1;32min\u001b[0m \u001b[0mtext_1\u001b[0m\u001b[1;33m:\u001b[0m\u001b[1;33m\u001b[0m\u001b[1;33m\u001b[0m\u001b[0m\n\u001b[0m\u001b[0;32m      2\u001b[0m     \u001b[0mname\u001b[0m\u001b[1;33m,\u001b[0m\u001b[0mfull_address\u001b[0m \u001b[1;33m=\u001b[0m \u001b[0mre\u001b[0m\u001b[1;33m.\u001b[0m\u001b[0msplit\u001b[0m\u001b[1;33m(\u001b[0m\u001b[1;34m\":\"\u001b[0m\u001b[1;33m,\u001b[0m\u001b[0mtext\u001b[0m\u001b[1;33m)\u001b[0m\u001b[1;33m\u001b[0m\u001b[1;33m\u001b[0m\u001b[0m\n\u001b[0;32m      3\u001b[0m     \u001b[0mname\u001b[0m \u001b[1;33m=\u001b[0m \u001b[0mname\u001b[0m\u001b[1;33m.\u001b[0m\u001b[0mstrip\u001b[0m\u001b[1;33m(\u001b[0m\u001b[1;33m)\u001b[0m\u001b[1;33m\u001b[0m\u001b[1;33m\u001b[0m\u001b[0m\n\u001b[0;32m      4\u001b[0m     \u001b[0mfull_address\u001b[0m \u001b[1;33m=\u001b[0m \u001b[0mfull_address\u001b[0m\u001b[1;33m.\u001b[0m\u001b[0mstrip\u001b[0m\u001b[1;33m(\u001b[0m\u001b[1;33m)\u001b[0m\u001b[1;33m\u001b[0m\u001b[1;33m\u001b[0m\u001b[0m\n\u001b[0;32m      5\u001b[0m     \u001b[0mfirst_name\u001b[0m\u001b[1;33m,\u001b[0m\u001b[0mlast_name\u001b[0m \u001b[1;33m=\u001b[0m\u001b[0mre\u001b[0m\u001b[1;33m.\u001b[0m\u001b[0msplit\u001b[0m\u001b[1;33m(\u001b[0m\u001b[1;34m'\\s'\u001b[0m\u001b[1;33m,\u001b[0m\u001b[0mname\u001b[0m\u001b[1;33m)\u001b[0m\u001b[1;33m\u001b[0m\u001b[1;33m\u001b[0m\u001b[0m\n",
      "\u001b[1;31mNameError\u001b[0m: name 'text_1' is not defined"
     ]
    }
   ],
   "source": [
    "for text in text_1:\n",
    "    name,full_address = re.split(\":\",text)\n",
    "    name = name.strip()\n",
    "    full_address = full_address.strip()\n",
    "    first_name,last_name =re.split('\\s',name)\n",
    "    address = re.search(\"\\d{3}\\.\\d{3}\\.\\d{4}\\s\\d{3}\",full_address)\n",
    "    street_name = full_address[address.end()+1:]\n",
    "    print(\"first_name = {},last_name = {}, address={} address_end_pos = {}\".format(first_name,last_name,address.group(),street_name))\n",
    " "
   ]
  },
  {
   "cell_type": "code",
   "execution_count": 38,
   "id": "8f9c2732",
   "metadata": {},
   "outputs": [],
   "source": [
    "split_text=re.split(\"\\s\",text,3)"
   ]
  },
  {
   "cell_type": "code",
   "execution_count": 39,
   "id": "f0dda92d",
   "metadata": {},
   "outputs": [
    {
     "name": "stdout",
     "output_type": "stream",
     "text": [
      "['Ross', 'McFluff:', '834.345.1254', '155 Elm Street\\n Ronald Heathmore: 892.345.3428 436 Finley Avenue\\n Frank Burger: 925.541.7625 662 South Dogwood Way\\n Heather Albrecht: 548.326.4584 919 Park Place']\n"
     ]
    }
   ],
   "source": [
    "print(split_text)"
   ]
  },
  {
   "cell_type": "code",
   "execution_count": 40,
   "id": "9b495444",
   "metadata": {},
   "outputs": [
    {
     "name": "stdout",
     "output_type": "stream",
     "text": [
      "['Ross ']\n"
     ]
    }
   ],
   "source": [
    "import re\n",
    "x = re.search((\"^R....\"),text)\n",
    "print(x)"
   ]
  },
  {
   "cell_type": "code",
   "execution_count": null,
   "id": "d02101d2",
   "metadata": {},
   "outputs": [],
   "source": []
  }
 ],
 "metadata": {
  "kernelspec": {
   "display_name": "Python 3 (ipykernel)",
   "language": "python",
   "name": "python3"
  },
  "language_info": {
   "codemirror_mode": {
    "name": "ipython",
    "version": 3
   },
   "file_extension": ".py",
   "mimetype": "text/x-python",
   "name": "python",
   "nbconvert_exporter": "python",
   "pygments_lexer": "ipython3",
   "version": "3.9.13"
  }
 },
 "nbformat": 4,
 "nbformat_minor": 5
}
