{
 "cells": [
  {
   "cell_type": "markdown",
   "id": "db7f4f7f",
   "metadata": {},
   "source": [
    "# # Write a Python program to square the elements of a list using map() function.\n",
    "Sample List: [4, 5, 2, 9]\n",
    "\n",
    "Square the elements of the list:\n",
    "\n",
    "[16, 25, 4, 81]"
   ]
  },
  {
   "cell_type": "code",
   "execution_count": 6,
   "id": "e65e44e4",
   "metadata": {},
   "outputs": [
    {
     "name": "stdout",
     "output_type": "stream",
     "text": [
      "Sample List: [4, 5, 2, 9]\n",
      "Square the elements of the list: [16, 25, 4, 81]\n"
     ]
    }
   ],
   "source": [
    "Numbers = [4,5,2,9]\n",
    "#function define\n",
    "def square(Number):\n",
    "    return Number * Number\n",
    "# apply Trippling() to each item of the numbers list\n",
    "Square_Numbers_A = map(square, Numbers)\n",
    "# converting to list\n",
    "Square_Numbers = list(Square_Numbers_A)\n",
    "print(\"Sample List:\",Numbers)\n",
    "print(\"Square the elements of the list:\",Square_Numbers)"
   ]
  },
  {
   "cell_type": "code",
   "execution_count": null,
   "id": "401f93f5",
   "metadata": {},
   "outputs": [],
   "source": []
  }
 ],
 "metadata": {
  "kernelspec": {
   "display_name": "Python 3 (ipykernel)",
   "language": "python",
   "name": "python3"
  },
  "language_info": {
   "codemirror_mode": {
    "name": "ipython",
    "version": 3
   },
   "file_extension": ".py",
   "mimetype": "text/x-python",
   "name": "python",
   "nbconvert_exporter": "python",
   "pygments_lexer": "ipython3",
   "version": "3.9.13"
  }
 },
 "nbformat": 4,
 "nbformat_minor": 5
}
