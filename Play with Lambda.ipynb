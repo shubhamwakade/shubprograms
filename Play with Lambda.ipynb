{
 "cells": [
  {
   "cell_type": "markdown",
   "id": "e3c30a6f",
   "metadata": {},
   "source": [
    "# Write a Python program to create a lambda function that adds 25 to a given number passed in as an argument."
   ]
  },
  {
   "cell_type": "code",
   "execution_count": 12,
   "id": "2ed3b702",
   "metadata": {},
   "outputs": [
    {
     "name": "stdout",
     "output_type": "stream",
     "text": [
      "35\n"
     ]
    }
   ],
   "source": [
    "add=lambda num:num+25\n",
    "print(add(10))"
   ]
  },
  {
   "cell_type": "code",
   "execution_count": null,
   "id": "6eb12b46",
   "metadata": {},
   "outputs": [],
   "source": []
  }
 ],
 "metadata": {
  "kernelspec": {
   "display_name": "Python 3 (ipykernel)",
   "language": "python",
   "name": "python3"
  },
  "language_info": {
   "codemirror_mode": {
    "name": "ipython",
    "version": 3
   },
   "file_extension": ".py",
   "mimetype": "text/x-python",
   "name": "python",
   "nbconvert_exporter": "python",
   "pygments_lexer": "ipython3",
   "version": "3.9.13"
  }
 },
 "nbformat": 4,
 "nbformat_minor": 5
}
