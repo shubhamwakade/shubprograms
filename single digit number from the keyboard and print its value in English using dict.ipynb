{
 "cells": [
  {
   "cell_type": "code",
   "execution_count": 22,
   "id": "a62d51e3",
   "metadata": {},
   "outputs": [
    {
     "name": "stdout",
     "output_type": "stream",
     "text": [
      "Entre a digit 0 to 100:100\n",
      "Hundred ZERO\n"
     ]
    }
   ],
   "source": [
    "#write a program to take a single digit number from the keyboard and print its value in english\n",
    "n=int(input('Entre a digit 0 to 100:'))\n",
    "dict={0:'ZERO',1:'ONE',2:'TWO',3:'THREE',4:'FOUR',5:'FIVE',6:'SIX',7:'SEVEN',8:'EIGHT',9:'NINE'}\n",
    "tens={1:'TEN',2:'TEWNTY',3:'Thiry',4:'Fourty',5:'Fifty',6:'Sixty',7:'Seventy',8:'Eighty',9:'Ninety',10:'Hundred'}\n",
    "dictdigit=n%10\n",
    "tenthdigit=n//10\n",
    "output=tens[tenthdigit]+\" \"+dict[dictdigit]\n",
    "print(output)\n",
    "    \n"
   ]
  },
  {
   "cell_type": "code",
   "execution_count": null,
   "id": "24d49b79",
   "metadata": {},
   "outputs": [],
   "source": []
  },
  {
   "cell_type": "code",
   "execution_count": null,
   "id": "1ebbdd45",
   "metadata": {},
   "outputs": [],
   "source": []
  }
 ],
 "metadata": {
  "kernelspec": {
   "display_name": "Python 3 (ipykernel)",
   "language": "python",
   "name": "python3"
  },
  "language_info": {
   "codemirror_mode": {
    "name": "ipython",
    "version": 3
   },
   "file_extension": ".py",
   "mimetype": "text/x-python",
   "name": "python",
   "nbconvert_exporter": "python",
   "pygments_lexer": "ipython3",
   "version": "3.9.13"
  }
 },
 "nbformat": 4,
 "nbformat_minor": 5
}
