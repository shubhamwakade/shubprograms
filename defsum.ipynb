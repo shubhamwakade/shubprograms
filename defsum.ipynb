{
 "cells": [
  {
   "cell_type": "markdown",
   "id": "0b6da961",
   "metadata": {},
   "source": [
    "# Write a Python function to sum all the numbers in a list.\n",
    "\n"
   ]
  },
  {
   "cell_type": "code",
   "execution_count": 2,
   "id": "0366cf0a",
   "metadata": {},
   "outputs": [
    {
     "name": "stdout",
     "output_type": "stream",
     "text": [
      "Entre The input:8,2,0,3,7\n",
      "Expected Output:  20\n"
     ]
    }
   ],
   "source": [
    "samplelist=(eval(input(\"Entre The input:\")))\n",
    "def sum(x):\n",
    "    add=0\n",
    "    for i in x:\n",
    "        add+=i\n",
    "    return add        \n",
    "print('Expected Output: ',sum(samplelist))"
   ]
  }
 ],
 "metadata": {
  "kernelspec": {
   "display_name": "Python 3 (ipykernel)",
   "language": "python",
   "name": "python3"
  },
  "language_info": {
   "codemirror_mode": {
    "name": "ipython",
    "version": 3
   },
   "file_extension": ".py",
   "mimetype": "text/x-python",
   "name": "python",
   "nbconvert_exporter": "python",
   "pygments_lexer": "ipython3",
   "version": "3.9.13"
  }
 },
 "nbformat": 4,
 "nbformat_minor": 5
}
