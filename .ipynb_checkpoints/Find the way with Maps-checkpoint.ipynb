{
 "cells": [
  {
   "cell_type": "markdown",
   "id": "e6c92ab0",
   "metadata": {},
   "source": [
    "# Write a Python program to triple all numbers of a given list of integers. Use Python map.\n",
    "sample list: [1, 2, 3, 4, 5, 6, 7]\n",
    "\n",
    "Triple of list numbers:\n",
    "[3, 6, 9, 12, 15, 18, 21]"
   ]
  },
  {
   "cell_type": "code",
   "execution_count": 5,
   "id": "4b1ff04a",
   "metadata": {},
   "outputs": [
    {
     "name": "stdout",
     "output_type": "stream",
     "text": [
      "Sample List: [1, 2, 3, 4, 5, 6, 7]\n",
      "Triple of list Numbers: [3, 6, 9, 12, 15, 18, 21]\n"
     ]
    }
   ],
   "source": [
    "Numbers = [1, 2, 3, 4, 5, 6, 7]\n",
    "#function define\n",
    "def Triple(Number):\n",
    "    return Number * 3\n",
    "# apply Trippling() to each item of the numbers list\n",
    "Triple_Numbers_A = map(Triple, Numbers)\n",
    "# converting to list\n",
    "Triple_Numbers = list(Triple_Numbers_A)\n",
    "print(\"Sample List:\",Numbers)\n",
    "print(\"Triple of list Numbers:\",Triple_Numbers)"
   ]
  },
  {
   "cell_type": "code",
   "execution_count": null,
   "id": "d5920012",
   "metadata": {},
   "outputs": [],
   "source": []
  }
 ],
 "metadata": {
  "kernelspec": {
   "display_name": "Python 3 (ipykernel)",
   "language": "python",
   "name": "python3"
  },
  "language_info": {
   "codemirror_mode": {
    "name": "ipython",
    "version": 3
   },
   "file_extension": ".py",
   "mimetype": "text/x-python",
   "name": "python",
   "nbconvert_exporter": "python",
   "pygments_lexer": "ipython3",
   "version": "3.9.13"
  }
 },
 "nbformat": 4,
 "nbformat_minor": 5
}
