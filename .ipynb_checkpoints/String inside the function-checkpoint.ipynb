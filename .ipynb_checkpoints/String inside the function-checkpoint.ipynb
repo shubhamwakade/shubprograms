{
 "cells": [
  {
   "cell_type": "markdown",
   "id": "bf5eca67",
   "metadata": {},
   "source": [
    "# Write a Python program to reverse a string.\n"
   ]
  },
  {
   "cell_type": "code",
   "execution_count": 1,
   "id": "ee1127e1",
   "metadata": {},
   "outputs": [
    {
     "name": "stdout",
     "output_type": "stream",
     "text": [
      "Entre The Words: Hello World\n",
      "The reverse output is: dlroW olleH\n"
     ]
    }
   ],
   "source": [
    "samplestring=input(\"Entre The Words: \")\n",
    "def reverse(samplestring):\n",
    "    str = \"\"\n",
    "    for i in samplestring:\n",
    "        str = i + str\n",
    "    return str\n",
    "print(\"The reverse output is: \",end=\"\")\n",
    "print(reverse(samplestring))"
   ]
  },
  {
   "cell_type": "code",
   "execution_count": null,
   "id": "ca37c592",
   "metadata": {},
   "outputs": [],
   "source": []
  }
 ],
 "metadata": {
  "kernelspec": {
   "display_name": "Python 3 (ipykernel)",
   "language": "python",
   "name": "python3"
  },
  "language_info": {
   "codemirror_mode": {
    "name": "ipython",
    "version": 3
   },
   "file_extension": ".py",
   "mimetype": "text/x-python",
   "name": "python",
   "nbconvert_exporter": "python",
   "pygments_lexer": "ipython3",
   "version": "3.9.13"
  }
 },
 "nbformat": 4,
 "nbformat_minor": 5
}
