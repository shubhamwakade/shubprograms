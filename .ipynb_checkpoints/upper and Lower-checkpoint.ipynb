{
 "cells": [
  {
   "cell_type": "code",
   "execution_count": null,
   "id": "aed17b3e",
   "metadata": {},
   "outputs": [],
   "source": [
    "samplestring=input(\"Entre The string: \")\n",
    "lower=0\n",
    "upper=0\n",
    "for i in samplestring:\n",
    "    if(i.islower()):\n",
    "            lower+=1 \n",
    "    elif (i.isupper()):\n",
    "            upper+=1\n",
    "\n",
    "print(\"No. of Lower case Characters:\",lower)\n",
    "print(\"No. of Upper case characters:\",upper)"
   ]
  },
  {
   "cell_type": "code",
   "execution_count": null,
   "id": "f3490971",
   "metadata": {},
   "outputs": [],
   "source": []
  }
 ],
 "metadata": {
  "kernelspec": {
   "display_name": "Python 3 (ipykernel)",
   "language": "python",
   "name": "python3"
  },
  "language_info": {
   "codemirror_mode": {
    "name": "ipython",
    "version": 3
   },
   "file_extension": ".py",
   "mimetype": "text/x-python",
   "name": "python",
   "nbconvert_exporter": "python",
   "pygments_lexer": "ipython3",
   "version": "3.9.13"
  }
 },
 "nbformat": 4,
 "nbformat_minor": 5
}
