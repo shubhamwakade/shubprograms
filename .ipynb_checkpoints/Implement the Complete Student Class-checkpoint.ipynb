{
 "cells": [
  {
   "cell_type": "code",
   "execution_count": 1,
   "id": "466b0a82",
   "metadata": {},
   "outputs": [],
   "source": [
    "class Student:\n",
    "    def __init__(self):\n",
    "        self.__name=\"\"\n",
    "        self.__RollNumber=\"\"\n",
    "    def setName(self,name):\n",
    "           self.__name=name\n",
    "    def getName(self):\n",
    "        return self.__name\n",
    "    def setRollNumber(self,RollNumber):\n",
    "          self.__RollNumber=RollNumber\n",
    "    def getRollNumber(self):\n",
    "        return self.__RollNumber"
   ]
  },
  {
   "cell_type": "code",
   "execution_count": 2,
   "id": "3b0a8007",
   "metadata": {},
   "outputs": [],
   "source": [
    "shubham=Student()"
   ]
  },
  {
   "cell_type": "code",
   "execution_count": 3,
   "id": "bdf632d2",
   "metadata": {},
   "outputs": [],
   "source": [
    "shubham.setName(\"mahesh\")\n",
    "shubham.setRollNumber(50)"
   ]
  },
  {
   "cell_type": "code",
   "execution_count": 16,
   "id": "a4a59fd3",
   "metadata": {},
   "outputs": [],
   "source": [
    "shubham.setRollNumber(600)\n",
    "shubham.setName(\"ramesh\")"
   ]
  },
  {
   "cell_type": "code",
   "execution_count": 17,
   "id": "ead0876f",
   "metadata": {},
   "outputs": [
    {
     "data": {
      "text/plain": [
       "'ramesh'"
      ]
     },
     "execution_count": 17,
     "metadata": {},
     "output_type": "execute_result"
    }
   ],
   "source": [
    "shubham.getName()"
   ]
  },
  {
   "cell_type": "code",
   "execution_count": 18,
   "id": "6e815d0a",
   "metadata": {},
   "outputs": [
    {
     "data": {
      "text/plain": [
       "600"
      ]
     },
     "execution_count": 18,
     "metadata": {},
     "output_type": "execute_result"
    }
   ],
   "source": [
    "shubham.getRollNumber()"
   ]
  },
  {
   "cell_type": "code",
   "execution_count": null,
   "id": "6ce31750",
   "metadata": {},
   "outputs": [],
   "source": []
  }
 ],
 "metadata": {
  "kernelspec": {
   "display_name": "Python 3 (ipykernel)",
   "language": "python",
   "name": "python3"
  },
  "language_info": {
   "codemirror_mode": {
    "name": "ipython",
    "version": 3
   },
   "file_extension": ".py",
   "mimetype": "text/x-python",
   "name": "python",
   "nbconvert_exporter": "python",
   "pygments_lexer": "ipython3",
   "version": "3.9.13"
  }
 },
 "nbformat": 4,
 "nbformat_minor": 5
}
