{
 "cells": [
  {
   "cell_type": "markdown",
   "id": "c0b27262",
   "metadata": {},
   "source": [
    "# Weather condition to play outdoor"
   ]
  },
  {
   "cell_type": "markdown",
   "id": "ea0a1230",
   "metadata": {},
   "source": [
    "# Suppose we have a dataset of weather conditions and the corresponding target variable \"Play\". So using this dataset we need to decide whether we should play or not on a particular day according to the weather conditions. So to solve this problem, we need to follow the below steps:\n",
    "\n",
    "\n",
    "\n",
    "# Convert the given dataset into frequency tables.\n",
    "# Generate a Likelihood table by finding the probabilities of given features.\n",
    "# Now, use the Bayes theorem to calculate the posterior probability."
   ]
  },
  {
   "cell_type": "markdown",
   "id": "1d1cfc12",
   "metadata": {},
   "source": [
    "# Import  Libraries"
   ]
  },
  {
   "cell_type": "code",
   "execution_count": 1,
   "id": "ac031627",
   "metadata": {},
   "outputs": [],
   "source": [
    "import pandas as pd\n",
    "import numpy as np\n",
    "import matplotlib.pyplot as plt\n",
    "import seaborn as sns \n",
    "import warnings\n",
    "warnings.filterwarnings('ignore')"
   ]
  },
  {
   "cell_type": "markdown",
   "id": "91b25e0d",
   "metadata": {},
   "source": [
    "#  Dataset Loading"
   ]
  },
  {
   "cell_type": "code",
   "execution_count": 5,
   "id": "b1a92744",
   "metadata": {},
   "outputs": [
    {
     "data": {
      "text/html": [
       "<div>\n",
       "<style scoped>\n",
       "    .dataframe tbody tr th:only-of-type {\n",
       "        vertical-align: middle;\n",
       "    }\n",
       "\n",
       "    .dataframe tbody tr th {\n",
       "        vertical-align: top;\n",
       "    }\n",
       "\n",
       "    .dataframe thead th {\n",
       "        text-align: right;\n",
       "    }\n",
       "</style>\n",
       "<table border=\"1\" class=\"dataframe\">\n",
       "  <thead>\n",
       "    <tr style=\"text-align: right;\">\n",
       "      <th></th>\n",
       "      <th>Outlook</th>\n",
       "      <th>Temperature</th>\n",
       "      <th>Humidity</th>\n",
       "      <th>Wind</th>\n",
       "      <th>Play Tennis</th>\n",
       "    </tr>\n",
       "  </thead>\n",
       "  <tbody>\n",
       "    <tr>\n",
       "      <th>0</th>\n",
       "      <td>Sunny</td>\n",
       "      <td>Hot</td>\n",
       "      <td>High</td>\n",
       "      <td>Weak</td>\n",
       "      <td>No</td>\n",
       "    </tr>\n",
       "    <tr>\n",
       "      <th>1</th>\n",
       "      <td>Sunny</td>\n",
       "      <td>Hot</td>\n",
       "      <td>High</td>\n",
       "      <td>Strong</td>\n",
       "      <td>No</td>\n",
       "    </tr>\n",
       "    <tr>\n",
       "      <th>2</th>\n",
       "      <td>Overcast</td>\n",
       "      <td>Hot</td>\n",
       "      <td>High</td>\n",
       "      <td>Weak</td>\n",
       "      <td>Yes</td>\n",
       "    </tr>\n",
       "    <tr>\n",
       "      <th>3</th>\n",
       "      <td>Rain</td>\n",
       "      <td>Mild</td>\n",
       "      <td>High</td>\n",
       "      <td>Weak</td>\n",
       "      <td>Yes</td>\n",
       "    </tr>\n",
       "    <tr>\n",
       "      <th>4</th>\n",
       "      <td>Rain</td>\n",
       "      <td>Cool</td>\n",
       "      <td>Normal</td>\n",
       "      <td>Weak</td>\n",
       "      <td>Yes</td>\n",
       "    </tr>\n",
       "  </tbody>\n",
       "</table>\n",
       "</div>"
      ],
      "text/plain": [
       "    Outlook Temperature Humidity    Wind Play Tennis\n",
       "0     Sunny         Hot     High    Weak          No\n",
       "1     Sunny         Hot     High  Strong          No\n",
       "2  Overcast         Hot     High    Weak         Yes\n",
       "3      Rain        Mild     High    Weak         Yes\n",
       "4      Rain        Cool   Normal    Weak         Yes"
      ]
     },
     "execution_count": 5,
     "metadata": {},
     "output_type": "execute_result"
    }
   ],
   "source": [
    "file_path = r'C:\\Users\\shubham\\Desktop\\Tennis.csv'\n",
    "data = pd.read_csv(file_path)\n",
    "data.head()"
   ]
  },
  {
   "cell_type": "markdown",
   "id": "4787d93b",
   "metadata": {},
   "source": [
    "# The first step is to convert this data set into frequency tables. We will create frequency tables for each feature in the dataset."
   ]
  },
  {
   "cell_type": "code",
   "execution_count": 12,
   "id": "17cd7043",
   "metadata": {},
   "outputs": [],
   "source": [
    "# Frequency Table for outlook\n",
    "outlook_freq = data.groupby('Outlook').size() / len(data)\n",
    "\n",
    "# Frequency Table for temprature\n",
    "temp_freq = data.groupby('Temperature').count()['Outlook'] / len(data)\n",
    "\n",
    "# Frequency Table for humidity\n",
    "humid_freq = data.groupby('Humidity').size() / data['Humidity'].count()\n",
    "\n",
    "# Frequency Table for wind\n",
    "wind_freq = data.groupby('Wind')['Wind'].value_counts(normalize=True)\n",
    "\n",
    "# Frequency Table for play\n",
    "play_freq = data.groupby('Play Tennis').size() / len(data)\n"
   ]
  },
  {
   "cell_type": "markdown",
   "id": "dc39faec",
   "metadata": {},
   "source": [
    "# Next , we need to generate a likelihood table by finding the probabilities of given features."
   ]
  },
  {
   "cell_type": "code",
   "execution_count": 14,
   "id": "d20b43a7",
   "metadata": {},
   "outputs": [],
   "source": [
    "# likelihood table for outlook given play\n",
    "outlook_play_lh = pd.pivot_table(data, index='Outlook', columns='Play Tennis', aggfunc='size', fill_value=0) / len(data)\n",
    "# likelihood table for tempprature given play\n",
    "temp_play_lh = pd.pivot_table(data, index='Temperature', columns='Play Tennis', aggfunc='size', fill_value=0) / len(data)\n",
    "# likelihood table for humidity given play\n",
    "humid_play_lh = pd.pivot_table(data, index='Humidity', columns='Play Tennis', aggfunc='size', fill_value=0) / len(data)\n",
    "# likelihood table for wind given play\n",
    "wind_play_lh = pd.crosstab(index=data['Wind'], columns=data['Play Tennis'], normalize='index')\n"
   ]
  },
  {
   "cell_type": "markdown",
   "id": "735361a8",
   "metadata": {},
   "source": [
    "# Finally , we can use Bayes theorem to calculate the posterior probability of playing on a particular day given the weather conditions."
   ]
  },
  {
   "cell_type": "code",
   "execution_count": 16,
   "id": "ebd215b2",
   "metadata": {},
   "outputs": [],
   "source": [
    "# posterior probabilty of playing on a particular day given the weather conditions."
   ]
  },
  {
   "cell_type": "code",
   "execution_count": 17,
   "id": "f0046010",
   "metadata": {},
   "outputs": [],
   "source": [
    "def predict(outlook, temp, humidity, wind):\n",
    "    p_yes = outlook_play_lh.loc[outlook, 'Yes'] * temp_play_lh.loc[temp, 'Yes'] * humid_play_lh.loc[humidity, 'Yes'] * wind_play_lh.loc[wind, 'Yes'] * play_freq['Yes']\n",
    "    p_no = outlook_play_lh.loc[outlook, 'No'] * temp_play_lh.loc[temp, 'No'] * humid_play_lh.loc[humidity, 'No'] * wind_play_lh.loc[wind, 'No'] * play_freq['No']\n",
    "\n",
    "    total_probability = p_yes + p_no\n",
    "\n",
    "    return p_yes / total_probability, p_no / total_probability\n"
   ]
  },
  {
   "cell_type": "code",
   "execution_count": null,
   "id": "0575aae3",
   "metadata": {},
   "outputs": [],
   "source": []
  }
 ],
 "metadata": {
  "kernelspec": {
   "display_name": "Python 3 (ipykernel)",
   "language": "python",
   "name": "python3"
  },
  "language_info": {
   "codemirror_mode": {
    "name": "ipython",
    "version": 3
   },
   "file_extension": ".py",
   "mimetype": "text/x-python",
   "name": "python",
   "nbconvert_exporter": "python",
   "pygments_lexer": "ipython3",
   "version": "3.9.13"
  }
 },
 "nbformat": 4,
 "nbformat_minor": 5
}
