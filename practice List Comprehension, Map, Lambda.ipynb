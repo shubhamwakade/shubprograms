{
 "cells": [
  {
   "cell_type": "code",
   "execution_count": null,
   "id": "df4b88e9",
   "metadata": {},
   "outputs": [],
   "source": [
    "user_input=input(\"please Entre marks space separated\")\n"
   ]
  },
  {
   "cell_type": "code",
   "execution_count": null,
   "id": "f4b66d33",
   "metadata": {},
   "outputs": [],
   "source": [
    "user_input_lst=user_input.split()"
   ]
  },
  {
   "cell_type": "code",
   "execution_count": null,
   "id": "8bc7db76",
   "metadata": {},
   "outputs": [],
   "source": [
    "user_input_lst"
   ]
  },
  {
   "cell_type": "code",
   "execution_count": null,
   "id": "8da702dc",
   "metadata": {},
   "outputs": [],
   "source": [
    "user_input_lst_int=[]\n",
    "for num in user_input_lst:\n",
    "    num=int(num)\n",
    "    user_input_lst_int.append(num)\n",
    "    "
   ]
  },
  {
   "cell_type": "code",
   "execution_count": null,
   "id": "09fdbab9",
   "metadata": {},
   "outputs": [],
   "source": [
    "user_input_lst_int"
   ]
  },
  {
   "cell_type": "code",
   "execution_count": null,
   "id": "88e6cda8",
   "metadata": {},
   "outputs": [],
   "source": [
    "list(map(int,user_input_lst))"
   ]
  },
  {
   "cell_type": "code",
   "execution_count": null,
   "id": "5f399bf7",
   "metadata": {},
   "outputs": [],
   "source": [
    "dict(((5,\"ds17\"),))"
   ]
  },
  {
   "cell_type": "code",
   "execution_count": 9,
   "id": "9a1c4a93",
   "metadata": {},
   "outputs": [],
   "source": [
    "keys=[1,2,3,4,5,6]\n",
    "values=[\"Shubham\",\"Gaurav\",\"Raju\",\"Jai\",\"Rohit\",\"Anil\"]"
   ]
  },
  {
   "cell_type": "code",
   "execution_count": 10,
   "id": "7aeb2ebd",
   "metadata": {},
   "outputs": [
    {
     "data": {
      "text/plain": [
       "{1: 'Shubham', 2: 'Gaurav', 3: 'Raju', 4: 'Jai', 5: 'Rohit', 6: 'Anil'}"
      ]
     },
     "execution_count": 10,
     "metadata": {},
     "output_type": "execute_result"
    }
   ],
   "source": [
    "dict(map(tuple,list(zip(keys,values))))"
   ]
  },
  {
   "cell_type": "code",
   "execution_count": 11,
   "id": "cd90e5fa",
   "metadata": {},
   "outputs": [
    {
     "data": {
      "text/plain": [
       "[(1, 'Shubham'),\n",
       " (2, 'Gaurav'),\n",
       " (3, 'Raju'),\n",
       " (4, 'Jai'),\n",
       " (5, 'Rohit'),\n",
       " (6, 'Anil')]"
      ]
     },
     "execution_count": 11,
     "metadata": {},
     "output_type": "execute_result"
    }
   ],
   "source": [
    "list(map(tuple,list(zip(keys,values))))"
   ]
  },
  {
   "cell_type": "code",
   "execution_count": 12,
   "id": "b6b51ae6",
   "metadata": {},
   "outputs": [
    {
     "data": {
      "text/plain": [
       "{1: 'Shubham', 2: 'Gaurav', 3: 'Raju', 4: 'Jai', 5: 'Rohit', 6: 'Anil'}"
      ]
     },
     "execution_count": 12,
     "metadata": {},
     "output_type": "execute_result"
    }
   ],
   "source": [
    "dict(list(zip(keys,values)))"
   ]
  },
  {
   "cell_type": "code",
   "execution_count": 23,
   "id": "5c684b20",
   "metadata": {},
   "outputs": [],
   "source": [
    "def create_dict(key,value):\n",
    "    return {key:value}"
   ]
  },
  {
   "cell_type": "code",
   "execution_count": 24,
   "id": "ff0bc4b1",
   "metadata": {
    "scrolled": true
   },
   "outputs": [
    {
     "data": {
      "text/plain": [
       "{1: 'Govind'}"
      ]
     },
     "execution_count": 24,
     "metadata": {},
     "output_type": "execute_result"
    }
   ],
   "source": [
    "create_dict(1,\"Govind\")"
   ]
  },
  {
   "cell_type": "code",
   "execution_count": 25,
   "id": "1ed52a60",
   "metadata": {},
   "outputs": [
    {
     "name": "stdout",
     "output_type": "stream",
     "text": [
      "[{1: 'Shubham'}, {2: 'Gaurav'}, {3: 'Raju'}, {4: 'Jai'}, {5: 'Rohit'}, {6: 'Anil'}]\n"
     ]
    }
   ],
   "source": [
    "print(list(map(create_dict,keys,values)))"
   ]
  },
  {
   "cell_type": "code",
   "execution_count": 26,
   "id": "c7d8b6c0",
   "metadata": {},
   "outputs": [],
   "source": [
    "def get_sum_of_three_num(num1,num2,num3):\n",
    "    return num1+num2+num3"
   ]
  },
  {
   "cell_type": "code",
   "execution_count": 27,
   "id": "86dc6fcd",
   "metadata": {},
   "outputs": [
    {
     "data": {
      "text/plain": [
       "171"
      ]
     },
     "execution_count": 27,
     "metadata": {},
     "output_type": "execute_result"
    }
   ],
   "source": [
    "get_sum_of_three_num(50,25,96)"
   ]
  },
  {
   "cell_type": "code",
   "execution_count": 28,
   "id": "fa284c4b",
   "metadata": {},
   "outputs": [],
   "source": [
    "num1=[58,96,74,83,41,58]\n",
    "num2=[36,59,87,74,15,36]\n",
    "num3=[48,15,63,74,89,67]"
   ]
  },
  {
   "cell_type": "code",
   "execution_count": 29,
   "id": "1bf26be7",
   "metadata": {},
   "outputs": [
    {
     "data": {
      "text/plain": [
       "[142, 170, 224, 231, 145, 161]"
      ]
     },
     "execution_count": 29,
     "metadata": {},
     "output_type": "execute_result"
    }
   ],
   "source": [
    "list(map(get_sum_of_three_num,num1,num2,num3))"
   ]
  },
  {
   "cell_type": "code",
   "execution_count": 30,
   "id": "c1672e25",
   "metadata": {},
   "outputs": [],
   "source": [
    "num1=[58,96,74,83,41,58]\n",
    "num2=[36,59,87,74,15,36]\n",
    "num3=[48,15,63,74]"
   ]
  },
  {
   "cell_type": "code",
   "execution_count": 31,
   "id": "8fc8a9ce",
   "metadata": {},
   "outputs": [
    {
     "data": {
      "text/plain": [
       "[142, 170, 224, 231]"
      ]
     },
     "execution_count": 31,
     "metadata": {},
     "output_type": "execute_result"
    }
   ],
   "source": [
    "list(map(get_sum_of_three_num,num1,num2,num3))"
   ]
  },
  {
   "cell_type": "code",
   "execution_count": 38,
   "id": "c2c9a5de",
   "metadata": {},
   "outputs": [],
   "source": [
    "def square(num):\n",
    "    return num*num,num"
   ]
  },
  {
   "cell_type": "code",
   "execution_count": 39,
   "id": "fc90d0b6",
   "metadata": {},
   "outputs": [
    {
     "data": {
      "text/plain": [
       "(2500, 50)"
      ]
     },
     "execution_count": 39,
     "metadata": {},
     "output_type": "execute_result"
    }
   ],
   "source": [
    "square(50)"
   ]
  },
  {
   "cell_type": "code",
   "execution_count": 44,
   "id": "1b968d61",
   "metadata": {},
   "outputs": [],
   "source": [
    "variable=lambda num:num*num"
   ]
  },
  {
   "cell_type": "code",
   "execution_count": 45,
   "id": "4bd4eb38",
   "metadata": {},
   "outputs": [
    {
     "data": {
      "text/plain": [
       "3600"
      ]
     },
     "execution_count": 45,
     "metadata": {},
     "output_type": "execute_result"
    }
   ],
   "source": [
    "variable(60)"
   ]
  },
  {
   "cell_type": "code",
   "execution_count": 47,
   "id": "da861adf",
   "metadata": {},
   "outputs": [
    {
     "data": {
      "text/plain": [
       "900"
      ]
     },
     "execution_count": 47,
     "metadata": {},
     "output_type": "execute_result"
    }
   ],
   "source": [
    "variable=lambda num:num*num\n",
    "variable(30)"
   ]
  },
  {
   "cell_type": "code",
   "execution_count": 49,
   "id": "466a001e",
   "metadata": {},
   "outputs": [
    {
     "name": "stdout",
     "output_type": "stream",
     "text": [
      "Help on function <lambda> in module __main__:\n",
      "\n",
      "<lambda> lambda x\n",
      "\n"
     ]
    }
   ],
   "source": [
    "help(lambda x:x)"
   ]
  },
  {
   "cell_type": "code",
   "execution_count": 51,
   "id": "b79d4010",
   "metadata": {},
   "outputs": [],
   "source": [
    "list1=[1,2,3,4,5]\n",
    "list2=[56,65,78,98,79]\n"
   ]
  },
  {
   "cell_type": "code",
   "execution_count": 54,
   "id": "4925b375",
   "metadata": {},
   "outputs": [],
   "source": [
    "def multiply(num1,num2):\n",
    "    return(num1,num2)"
   ]
  },
  {
   "cell_type": "code",
   "execution_count": 55,
   "id": "cacddfad",
   "metadata": {},
   "outputs": [
    {
     "data": {
      "text/plain": [
       "[(1, 56), (2, 65), (3, 78), (4, 98), (5, 79)]"
      ]
     },
     "execution_count": 55,
     "metadata": {},
     "output_type": "execute_result"
    }
   ],
   "source": [
    "list(map(multiply,list1,list2))"
   ]
  },
  {
   "cell_type": "code",
   "execution_count": 57,
   "id": "0e81a7b9",
   "metadata": {},
   "outputs": [],
   "source": [
    "def multiply(num1,num2):\n",
    "    return(num1*num2)"
   ]
  },
  {
   "cell_type": "code",
   "execution_count": 58,
   "id": "c402c538",
   "metadata": {},
   "outputs": [
    {
     "data": {
      "text/plain": [
       "[56, 130, 234, 392, 395]"
      ]
     },
     "execution_count": 58,
     "metadata": {},
     "output_type": "execute_result"
    }
   ],
   "source": [
    "list(map(multiply,list1,list2))"
   ]
  },
  {
   "cell_type": "code",
   "execution_count": 59,
   "id": "493ae1af",
   "metadata": {},
   "outputs": [
    {
     "data": {
      "text/plain": [
       "[(1, 56), (2, 65), (3, 78), (4, 98), (5, 79)]"
      ]
     },
     "execution_count": 59,
     "metadata": {},
     "output_type": "execute_result"
    }
   ],
   "source": [
    "list(map(lambda num1,num2:(num1,num2),list1,list2))"
   ]
  },
  {
   "cell_type": "code",
   "execution_count": 62,
   "id": "fb581db2",
   "metadata": {},
   "outputs": [
    {
     "data": {
      "text/plain": [
       "[56, 130, 234, 392, 395]"
      ]
     },
     "execution_count": 62,
     "metadata": {},
     "output_type": "execute_result"
    }
   ],
   "source": [
    "list(map(lambda num1,num2:(num1*num2),list1,list2))"
   ]
  },
  {
   "cell_type": "code",
   "execution_count": 64,
   "id": "3116859b",
   "metadata": {},
   "outputs": [],
   "source": [
    "def get_length_of_string(str1,str2):\n",
    "    return len (str1+str2)"
   ]
  },
  {
   "cell_type": "code",
   "execution_count": 65,
   "id": "5bd2cbae",
   "metadata": {},
   "outputs": [
    {
     "data": {
      "text/plain": [
       "12"
      ]
     },
     "execution_count": 65,
     "metadata": {},
     "output_type": "execute_result"
    }
   ],
   "source": [
    "get_length_of_string(\"shubham\",\"guddi\")"
   ]
  },
  {
   "cell_type": "code",
   "execution_count": 66,
   "id": "6d471cc4",
   "metadata": {},
   "outputs": [
    {
     "data": {
      "text/plain": [
       "12"
      ]
     },
     "execution_count": 66,
     "metadata": {},
     "output_type": "execute_result"
    }
   ],
   "source": [
    "(lambda str1,str2:len(str1+str2))(\"shubham\",\"guddi\") "
   ]
  },
  {
   "cell_type": "code",
   "execution_count": 67,
   "id": "1d8fca0b",
   "metadata": {},
   "outputs": [],
   "source": [
    "function=lambda str1,str2:len(str1+str2)"
   ]
  },
  {
   "cell_type": "code",
   "execution_count": 68,
   "id": "9a958b4a",
   "metadata": {},
   "outputs": [
    {
     "data": {
      "text/plain": [
       "12"
      ]
     },
     "execution_count": 68,
     "metadata": {},
     "output_type": "execute_result"
    }
   ],
   "source": [
    "function(\"shubham\",\"guddi\")"
   ]
  },
  {
   "cell_type": "code",
   "execution_count": 70,
   "id": "e5fcdada",
   "metadata": {},
   "outputs": [],
   "source": [
    "def is_odd(num):\n",
    "    if num%2!=0:\n",
    "        return True\n",
    "    else:\n",
    "        return False"
   ]
  },
  {
   "cell_type": "code",
   "execution_count": 71,
   "id": "64b3149b",
   "metadata": {},
   "outputs": [
    {
     "data": {
      "text/plain": [
       "[11, 35]"
      ]
     },
     "execution_count": 71,
     "metadata": {},
     "output_type": "execute_result"
    }
   ],
   "source": [
    "list(filter(is_odd,[11,35,36,48,]))"
   ]
  },
  {
   "cell_type": "code",
   "execution_count": 73,
   "id": "faa0f736",
   "metadata": {},
   "outputs": [
    {
     "data": {
      "text/plain": [
       "True"
      ]
     },
     "execution_count": 73,
     "metadata": {},
     "output_type": "execute_result"
    }
   ],
   "source": [
    "(lambda x:x%2!=0)(11)"
   ]
  },
  {
   "cell_type": "code",
   "execution_count": 75,
   "id": "401ce3c4",
   "metadata": {},
   "outputs": [
    {
     "data": {
      "text/plain": [
       "[1, 3, 5]"
      ]
     },
     "execution_count": 75,
     "metadata": {},
     "output_type": "execute_result"
    }
   ],
   "source": [
    "list(filter(lambda x:x%2!=0,[1,2,3,4,5,6]))"
   ]
  },
  {
   "cell_type": "code",
   "execution_count": 77,
   "id": "90e5d2a9",
   "metadata": {},
   "outputs": [
    {
     "data": {
      "text/plain": [
       "[2, 4, 6]"
      ]
     },
     "execution_count": 77,
     "metadata": {},
     "output_type": "execute_result"
    }
   ],
   "source": [
    "list(filter(lambda x:x%2==0,[1,2,3,4,5,6]))"
   ]
  },
  {
   "cell_type": "code",
   "execution_count": 79,
   "id": "5c400667",
   "metadata": {},
   "outputs": [
    {
     "data": {
      "text/plain": [
       "True"
      ]
     },
     "execution_count": 79,
     "metadata": {},
     "output_type": "execute_result"
    }
   ],
   "source": [
    "x=2\n",
    "x%2==0"
   ]
  },
  {
   "cell_type": "code",
   "execution_count": null,
   "id": "11d9b729",
   "metadata": {},
   "outputs": [],
   "source": []
  }
 ],
 "metadata": {
  "kernelspec": {
   "display_name": "Python 3 (ipykernel)",
   "language": "python",
   "name": "python3"
  },
  "language_info": {
   "codemirror_mode": {
    "name": "ipython",
    "version": 3
   },
   "file_extension": ".py",
   "mimetype": "text/x-python",
   "name": "python",
   "nbconvert_exporter": "python",
   "pygments_lexer": "ipython3",
   "version": "3.9.13"
  }
 },
 "nbformat": 4,
 "nbformat_minor": 5
}
