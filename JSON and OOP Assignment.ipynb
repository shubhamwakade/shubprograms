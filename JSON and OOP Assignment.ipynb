{
 "cells": [
  {
   "cell_type": "markdown",
   "id": "3439d789",
   "metadata": {},
   "source": [
    "# ASSIGNMENT - 1"
   ]
  },
  {
   "cell_type": "code",
   "execution_count": 12,
   "id": "bf0cd7e3",
   "metadata": {},
   "outputs": [
    {
     "name": "stdout",
     "output_type": "stream",
     "text": [
      "Enter Name: \n",
      "Enter DOB: \n",
      "Enter Height: \n",
      "Enter City: \n",
      "Enter state: \n",
      "Enter Name: \n",
      "Enter DOB: \n",
      "Enter Height: \n",
      "Enter City: \n",
      "Enter state: \n",
      "Enter Name: \n",
      "Enter DOB: \n",
      "Enter Height: \n",
      "Enter City: \n",
      "Enter state: \n",
      "Enter Name: \n",
      "Enter DOB: \n",
      "Enter Height: \n",
      "Enter City: \n",
      "Enter state: \n",
      "Enter Name: \n",
      "Enter DOB: \n",
      "Enter Height: \n",
      "Enter City: \n",
      "Enter state: \n",
      "------------------------------\n",
      "[{'name': '', 'DOB': '', 'height': '', 'city': '', 'state': ''}]\n",
      "[{'name': '', 'DOB': '', 'height': '', 'city': '', 'state': ''}]\n",
      "[{'name': '', 'DOB': '', 'height': '', 'city': '', 'state': ''}]\n",
      "[{'name': '', 'DOB': '', 'height': '', 'city': '', 'state': ''}]\n",
      "[{'name': '', 'DOB': '', 'height': '', 'city': '', 'state': ''}]\n"
     ]
    }
   ],
   "source": [
    "import json\n",
    "\n",
    "class Employee:\n",
    "    \n",
    "    def __init__(self):\n",
    "        self.emp_dic={}\n",
    "    \n",
    "    def create_JSON(self):\n",
    "        \n",
    "        for i in range(5):\n",
    "            name = input(\"Enter Name: \")\n",
    "            dob = input('Enter DOB: ')\n",
    "            height = input('Enter Height: ')\n",
    "            city = input('Enter City: ')\n",
    "            state = input('Enter state: ')\n",
    "            emp={'name' :name,'DOB' :dob,'height' :height,'city' :city,'state' :state}\n",
    "            emp_id = len(self.emp_dic)+1\n",
    "            self.emp_dic[emp_id]=emp\n",
    "        with open(\"employee.json\", 'w') as x:\n",
    "            json.dump(self.emp_dic,x)\n",
    "            \n",
    "            \n",
    "    def data_print(self):\n",
    "        with open(\"employee.json\", 'r') as y:\n",
    "            data = json.load(y)\n",
    "        for i in data.values():\n",
    "            list1 = []\n",
    "            list1.append(i)\n",
    "            print(list1)\n",
    "            \n",
    "s =Employee()\n",
    "s.create_JSON()\n",
    "print(\"-\"*30)\n",
    "s.data_print()\n"
   ]
  },
  {
   "cell_type": "markdown",
   "id": "74baa781",
   "metadata": {},
   "source": [
    "#Create a dictionary of any 7 Indian States and their Capitals. Write this into a JSON file "
   ]
  },
  {
   "cell_type": "code",
   "execution_count": null,
   "id": "7738d847",
   "metadata": {},
   "outputs": [],
   "source": [
    "\n",
    "import json\n",
    "\n",
    "states = {\"Telangana\": \"Hyderabad\", \"Andhara pradesh\": \"Amaravathi\", \"Goa\": \"panji\", \"Himachal pradesh\": \"Shimla\",\n",
    "         \"Punjab\": \"Chandigarh\", \"Tamilnadu\": \"Chennai\", \"Karnataka\": \"Banglore\", \"Uttarpradesh\": \"Lucknow\"}\n",
    "\n",
    "with open('State_Captitals.json','w') as s:\n",
    "    json.dump(states,s)\n"
   ]
  },
  {
   "cell_type": "markdown",
   "id": "a6884eef",
   "metadata": {},
   "source": [
    "# ASSIGNMENT - 2"
   ]
  },
  {
   "cell_type": "code",
   "execution_count": 9,
   "id": "d2a3cf75",
   "metadata": {},
   "outputs": [
    {
     "name": "stdout",
     "output_type": "stream",
     "text": [
      "coco is 3 years old.\n",
      "coco has a Brown coat color.\n",
      "coco is a pug that loves to sleep.\n",
      "coco is a pug that barks a lot.\n",
      "Jimmy is 5 years old.\n",
      "Jimmy has a Black coat color.\n",
      "Jimmy is a Pitbull that loves to guard its owner.\n",
      "Jimmy is a pitbull that snores loudly.\n"
     ]
    }
   ],
   "source": [
    "class Dog:\n",
    "    def __init__(self, name, age, coat_color):\n",
    "        self.name = name\n",
    "        self.age = age\n",
    "        self.coat_color = coat_color\n",
    "    \n",
    "    def description(self):\n",
    "        print(f\"{self.name} is {self.age} years old.\")\n",
    "    \n",
    "    def get_info(self):\n",
    "        print(f\"{self.name} has a {self.coat_color} coat color.\")\n",
    "    \n",
    "\n",
    "class Pug(Dog):\n",
    "    def sleep(self):\n",
    "        print(f\"{self.name} is a pug that loves to sleep.\")\n",
    "\n",
    "    def bark(self):\n",
    "        print(f\"{self.name} is a pug that barks a lot.\")\n",
    "\n",
    "\n",
    "class Pitbull(Dog):\n",
    "    def guard(self):\n",
    "        print(f\"{self.name} is a Pitbull that loves to guard its owner.\")\n",
    "\n",
    "    def snore(self):\n",
    "        print(f\"{self.name} is a pitbull that snores loudly.\")\n",
    "\n",
    "\n",
    "# create objects and call their methods\n",
    "dog1 = Pug(\"coco\", 3, \"Brown\")\n",
    "dog1.description()\n",
    "dog1.get_info()\n",
    "dog1.sleep()\n",
    "dog1.bark()\n",
    "\n",
    "dog2 = Pitbull(\"Jimmy\", 5, \"Black\")\n",
    "dog2.description()\n",
    "dog2.get_info()\n",
    "dog2.guard()\n",
    "dog2.snore()\n"
   ]
  },
  {
   "cell_type": "code",
   "execution_count": null,
   "id": "d0b35867",
   "metadata": {},
   "outputs": [],
   "source": []
  }
 ],
 "metadata": {
  "kernelspec": {
   "display_name": "Python 3 (ipykernel)",
   "language": "python",
   "name": "python3"
  },
  "language_info": {
   "codemirror_mode": {
    "name": "ipython",
    "version": 3
   },
   "file_extension": ".py",
   "mimetype": "text/x-python",
   "name": "python",
   "nbconvert_exporter": "python",
   "pygments_lexer": "ipython3",
   "version": "3.9.13"
  }
 },
 "nbformat": 4,
 "nbformat_minor": 5
}
