{
 "cells": [
  {
   "cell_type": "code",
   "execution_count": 12,
   "id": "98e49b17",
   "metadata": {},
   "outputs": [
    {
     "name": "stdout",
     "output_type": "stream",
     "text": [
      "Entre The Words: EDYODA\n",
      "The Original input: EDYODA\n",
      "The reverse output is: ADOYDE\n"
     ]
    }
   ],
   "source": [
    "word=input(\"Entre The Words: \")\n",
    "def reverse(word):\n",
    "    str = \"\"\n",
    "    for i in word:\n",
    "        str = i + str\n",
    "    return str\n",
    " \n",
    "print(\"The Original input: \",end=\"\")\n",
    "print(word)\n",
    "print(\"The reverse output is: \",end=\"\")\n",
    "print(reverse(word))"
   ]
  },
  {
   "cell_type": "code",
   "execution_count": 11,
   "id": "9c4381ac",
   "metadata": {},
   "outputs": [
    {
     "name": "stdout",
     "output_type": "stream",
     "text": [
      "The Original input: EDYODA\n",
      "The reverse output is: ADOYDE\n"
     ]
    }
   ],
   "source": [
    "word= \"EDYODA\"\n",
    "def reverse(word):\n",
    "    str = \"\"\n",
    "    for i in word:\n",
    "        str = i + str\n",
    "    return str\n",
    " \n",
    "print(\"The Original input: \",end=\"\")\n",
    "print(word)\n",
    "print(\"The reverse output is: \",end=\"\")\n",
    "print(reverse(word))"
   ]
  },
  {
   "cell_type": "code",
   "execution_count": null,
   "id": "24ef7fec",
   "metadata": {},
   "outputs": [],
   "source": []
  }
 ],
 "metadata": {
  "kernelspec": {
   "display_name": "Python 3 (ipykernel)",
   "language": "python",
   "name": "python3"
  },
  "language_info": {
   "codemirror_mode": {
    "name": "ipython",
    "version": 3
   },
   "file_extension": ".py",
   "mimetype": "text/x-python",
   "name": "python",
   "nbconvert_exporter": "python",
   "pygments_lexer": "ipython3",
   "version": "3.9.13"
  }
 },
 "nbformat": 4,
 "nbformat_minor": 5
}
