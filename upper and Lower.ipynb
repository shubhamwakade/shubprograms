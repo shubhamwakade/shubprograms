{
 "cells": [
  {
   "cell_type": "markdown",
   "id": "6c914f45",
   "metadata": {},
   "source": [
    "# Write a Python function that accepts a string and calculate the number of upper case letters and lower case letters.\n",
    "\n"
   ]
  },
  {
   "cell_type": "code",
   "execution_count": 4,
   "id": "aed17b3e",
   "metadata": {},
   "outputs": [
    {
     "name": "stdout",
     "output_type": "stream",
     "text": [
      "Entre The string: \"Entre The string\"\n",
      "No. of Lower case Characters: 12\n",
      "No. of Upper case characters: 2\n"
     ]
    }
   ],
   "source": [
    "samplestring=input(\"Entre The string: \")\n",
    "lower=0\n",
    "upper=0\n",
    "for i in samplestring:\n",
    "    if(i.islower()):\n",
    "            lower+=1 \n",
    "    elif (i.isupper()):\n",
    "            upper+=1\n",
    "\n",
    "print(\"No. of Lower case Characters:\",lower)\n",
    "print(\"No. of Upper case characters:\",upper)"
   ]
  },
  {
   "cell_type": "code",
   "execution_count": 6,
   "id": "232977bc",
   "metadata": {},
   "outputs": [
    {
     "name": "stdout",
     "output_type": "stream",
     "text": [
      "Entre The string: \"Entre The string: \"\n",
      "No. of Upper case characters: 12\n",
      "No. of Lower case Characters: 2\n"
     ]
    }
   ],
   "source": [
    "samplestring=input(\"Entre The string: \")\n",
    "lower=0\n",
    "upper=0\n",
    "for i in samplestring:\n",
    "    if(i.isupper()):\n",
    "            lower+=1 \n",
    "    elif (i.islower()):\n",
    "            upper+=1\n",
    "print(\"No. of Upper case characters:\",upper)\n",
    "print(\"No. of Lower case Characters:\",lower)\n"
   ]
  },
  {
   "cell_type": "code",
   "execution_count": null,
   "id": "75a7d099",
   "metadata": {},
   "outputs": [],
   "source": []
  }
 ],
 "metadata": {
  "kernelspec": {
   "display_name": "Python 3 (ipykernel)",
   "language": "python",
   "name": "python3"
  },
  "language_info": {
   "codemirror_mode": {
    "name": "ipython",
    "version": 3
   },
   "file_extension": ".py",
   "mimetype": "text/x-python",
   "name": "python",
   "nbconvert_exporter": "python",
   "pygments_lexer": "ipython3",
   "version": "3.9.13"
  }
 },
 "nbformat": 4,
 "nbformat_minor": 5
}
