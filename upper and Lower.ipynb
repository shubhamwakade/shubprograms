{
 "cells": [
  {
   "cell_type": "code",
   "execution_count": 17,
   "id": "aed17b3e",
   "metadata": {},
   "outputs": [
    {
     "name": "stdout",
     "output_type": "stream",
     "text": [
      "Entre The string: The quick Brow Fox\n",
      "lower char: 12\n",
      "Uppercase char: 3\n"
     ]
    }
   ],
   "source": [
    "samplestring=input(\"Entre The string: \")\n",
    "lower=0\n",
    "upper=0\n",
    "for i in samplestring:\n",
    "    if(i.islower()):\n",
    "            lower+=1 \n",
    "    elif (i.isupper()):\n",
    "            upper+=1\n",
    "\n",
    "print(\"lower char:\",lower)\n",
    "print(\"Uppercase char:\",upper)"
   ]
  },
  {
   "cell_type": "code",
   "execution_count": null,
   "id": "f3490971",
   "metadata": {},
   "outputs": [],
   "source": []
  }
 ],
 "metadata": {
  "kernelspec": {
   "display_name": "Python 3 (ipykernel)",
   "language": "python",
   "name": "python3"
  },
  "language_info": {
   "codemirror_mode": {
    "name": "ipython",
    "version": 3
   },
   "file_extension": ".py",
   "mimetype": "text/x-python",
   "name": "python",
   "nbconvert_exporter": "python",
   "pygments_lexer": "ipython3",
   "version": "3.9.13"
  }
 },
 "nbformat": 4,
 "nbformat_minor": 5
}
