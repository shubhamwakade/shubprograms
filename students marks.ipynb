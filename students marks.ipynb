{
 "cells": [
  {
   "cell_type": "code",
   "execution_count": 1,
   "id": "bdc58822",
   "metadata": {},
   "outputs": [
    {
     "name": "stdout",
     "output_type": "stream",
     "text": [
      "Entre Number of students:2\n",
      "Entre Student Name:sjh\n",
      "Entre Student Marks:56\n",
      "Entre Student Name:raju\n",
      "Entre Student Marks:45\n",
      "All Students data inserted\n",
      "Entre Students Name to get Marks:sjh\n",
      "The Marks of sjh:56\n",
      "Do you want to find NOTHER STUDENT MARKS [YES|NO]:no\n",
      "Thanks for using our application\n"
     ]
    }
   ],
   "source": [
    "n=int(input('Entre Number of students:'))\n",
    "d={}\n",
    "for i in range (n):\n",
    "    name=input('Entre Student Name:')\n",
    "    marks=int(input('Entre Student Marks:'))\n",
    "    d[name]=marks\n",
    "print('All Students data inserted')\n",
    "while True:\n",
    "    name=input('Entre Students Name to get Marks:')\n",
    "    if name in d:\n",
    "        print('The Marks of {}:{}'.format(name,d[name]))\n",
    "    else:\n",
    "        print('Student not found')\n",
    "    opetion=input('Do you want to find Other Student Mark [YES|NO]:')\n",
    "    while opetion.lower() not in ['yes','no']:\n",
    "            opetion=input('Invalid opetion,please Choose valid opetion[Yes|No]:')\n",
    "    if opetion.lower()=='no':\n",
    "                break\n",
    "print('Thanks for using our application')"
   ]
  },
  {
   "cell_type": "code",
   "execution_count": null,
   "id": "714be2a1",
   "metadata": {},
   "outputs": [],
   "source": []
  },
  {
   "cell_type": "code",
   "execution_count": null,
   "id": "c6636d9b",
   "metadata": {},
   "outputs": [],
   "source": []
  }
 ],
 "metadata": {
  "kernelspec": {
   "display_name": "Python 3 (ipykernel)",
   "language": "python",
   "name": "python3"
  },
  "language_info": {
   "codemirror_mode": {
    "name": "ipython",
    "version": 3
   },
   "file_extension": ".py",
   "mimetype": "text/x-python",
   "name": "python",
   "nbconvert_exporter": "python",
   "pygments_lexer": "ipython3",
   "version": "3.9.13"
  }
 },
 "nbformat": 4,
 "nbformat_minor": 5
}
