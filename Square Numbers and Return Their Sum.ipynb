{
 "cells": [
  {
   "cell_type": "code",
   "execution_count": 82,
   "id": "61bdb935",
   "metadata": {},
   "outputs": [],
   "source": [
    "class Point:\n",
    "\n",
    "    def __init__(self,x,y,z):\n",
    "        self.x = x\n",
    "        self.y = y\n",
    "        self.z = z\n",
    "\n",
    "    def sq_sum(self,x,y,z):\n",
    "        return x * x + y * y + z * z \n"
   ]
  },
  {
   "cell_type": "code",
   "execution_count": 83,
   "id": "d06aaaee",
   "metadata": {},
   "outputs": [
    {
     "name": "stdout",
     "output_type": "stream",
     "text": [
      "35\n"
     ]
    }
   ],
   "source": [
    "sample=Point(1,2,3)\n",
    "print (sample.sq_sum(1,3,5))"
   ]
  },
  {
   "cell_type": "code",
   "execution_count": 75,
   "id": "be5b0e72",
   "metadata": {},
   "outputs": [
    {
     "data": {
      "text/plain": [
       "35"
      ]
     },
     "execution_count": 75,
     "metadata": {},
     "output_type": "execute_result"
    }
   ],
   "source": [
    "{\n",
    " \"cells\": [\n",
    "  {\n",
    "   \"cell_type\": \"markdown\",\n",
    "   \"id\": \"cfda38af\",\n",
    "   \"metadata\": {},\n",
    "   \"source\": [\n",
    "    \"# Challenge 2: Implement a Calculator Class\"\n",
    "   ]\n",
    "  },\n",
    "  {\n",
    "   \"cell_type\": \"code\",\n",
    "   \"execution_count\": 15,\n",
    "   \"id\": \"03085a3f\",\n",
    "   \"metadata\": {},\n",
    "   \"outputs\": [],\n",
    "   \"source\": [\n",
    "    \"class Calculator:\\n\",\n",
    "    \"    def __init__(self,x,y):\\n\",\n",
    "    \"        self.x = x\\n\",\n",
    "    \"        self.y = y  \\n\",\n",
    "    \"    def add(self):\\n\",\n",
    "    \"        return self.x +self. y \\n\",\n",
    "    \"    def subtract(self):\\n\",\n",
    "    \"        return self. x -self. y \\n\",\n",
    "    \"    def multiply(self):\\n\",\n",
    "    \"        return self.x * self.y \\n\",\n",
    "    \"    def divide(self):\\n\",\n",
    "    \"        return self.x / self.y\\n\"\n",
    "   ]\n",
    "  },\n",
    "  {\n",
    "   \"cell_type\": \"code\",\n",
    "   \"execution_count\": 17,\n",
    "   \"id\": \"ebf0e0d3\",\n",
    "   \"metadata\": {},\n",
    "   \"outputs\": [\n",
    "    {\n",
    "     \"name\": \"stdout\",\n",
    "     \"output_type\": \"stream\",\n",
    "     \"text\": [\n",
    "      \"15\\n\",\n",
    "      \"-5\\n\",\n",
    "      \"50\\n\",\n",
    "      \"0.5\\n\"\n",
    "     ]\n",
    "    }\n",
    "   ],\n",
    "   \"source\": [\n",
    "    \"obj = Calculator(5,10)\\n\",\n",
    "    \"print(obj.add())\\n\",\n",
    "    \"print(obj.subtract())\\n\",\n",
    "    \"print(obj.multiply())\\n\",\n",
    "    \"print(obj.divide())\"\n",
    "   ]\n",
    "  },\n",
    "  {\n",
    "   \"cell_type\": \"code\",\n",
    "   \"execution_count\": null,\n",
    "   \"id\": \"09efb381\",\n",
    "   \"metadata\": {},\n",
    "   \"outputs\": [],\n",
    "   \"source\": []\n",
    "  },\n",
    "  {\n",
    "   \"cell_type\": \"code\",\n",
    "   \"execution_count\": null,\n",
    "   \"id\": \"02b4f5a9\",\n",
    "   \"metadata\": {},\n",
    "   \"outputs\": [],\n",
    "   \"source\": []\n",
    "  }\n",
    " ],\n",
    " \"metadata\": {\n",
    "  \"kernelspec\": {\n",
    "   \"display_name\": \"Python 3 (ipykernel)\",\n",
    "   \"language\": \"python\",\n",
    "   \"name\": \"python3\"\n",
    "  },\n",
    "  \"language_info\": {\n",
    "   \"codemirror_mode\": {\n",
    "    \"name\": \"ipython\",\n",
    "    \"version\": 3\n",
    "   },\n",
    "   \"file_extension\": \".py\",\n",
    "   \"mimetype\": \"text/x-python\",\n",
    "   \"name\": \"python\",\n",
    "   \"nbconvert_exporter\": \"python\",\n",
    "   \"pygments_lexer\": \"ipython3\",\n",
    "   \"version\": \"3.9.13\"\n",
    "  }\n",
    " },\n",
    " \"nbformat\": 4,\n",
    " \"nbformat_minor\": 5\n",
    "}\n",
    "sample.sq_sum(1,3,5)"
   ]
  },
  {
   "cell_type": "code",
   "execution_count": null,
   "id": "88b5e926",
   "metadata": {},
   "outputs": [],
   "source": []
  }
 ],
 "metadata": {
  "kernelspec": {
   "display_name": "Python 3 (ipykernel)",
   "language": "python",
   "name": "python3"
  },
  "language_info": {
   "codemirror_mode": {
    "name": "ipython",
    "version": 3
   },
   "file_extension": ".py",
   "mimetype": "text/x-python",
   "name": "python",
   "nbconvert_exporter": "python",
   "pygments_lexer": "ipython3",
   "version": "3.9.13"
  }
 },
 "nbformat": 4,
 "nbformat_minor": 5
}
