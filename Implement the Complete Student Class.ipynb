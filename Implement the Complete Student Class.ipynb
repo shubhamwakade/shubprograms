{
 "cells": [
  {
   "cell_type": "code",
   "execution_count": 127,
   "id": "466b0a82",
   "metadata": {},
   "outputs": [],
   "source": [
    "class Student:\n",
    "    def __init__(self):\n",
    "        self.__name=\"\"\n",
    "        self.__RollNumber=\"\"\n",
    "    def setName(self,name):\n",
    "           self.__name=name\n",
    "    def getName(self):\n",
    "        return self.__name\n",
    "    def setRollNumber(self,RollNumber):\n",
    "          self.__RollNumber=RollNumber\n",
    "    def getRollNumber(self):\n",
    "        return self.__RollNumber"
   ]
  },
  {
   "cell_type": "code",
   "execution_count": 128,
   "id": "3b0a8007",
   "metadata": {},
   "outputs": [],
   "source": [
    "shubham=Student()"
   ]
  },
  {
   "cell_type": "code",
   "execution_count": 129,
   "id": "bdf632d2",
   "metadata": {},
   "outputs": [],
   "source": [
    "shubham.setName(\"mahesh\")\n",
    "shubham.setRollNumber(50)"
   ]
  },
  {
   "cell_type": "code",
   "execution_count": 130,
   "id": "a4a59fd3",
   "metadata": {},
   "outputs": [],
   "source": [
    "shubham.setRollNumber(50)"
   ]
  },
  {
   "cell_type": "code",
   "execution_count": 131,
   "id": "ead0876f",
   "metadata": {},
   "outputs": [
    {
     "data": {
      "text/plain": [
       "'mahesh'"
      ]
     },
     "execution_count": 131,
     "metadata": {},
     "output_type": "execute_result"
    }
   ],
   "source": [
    "shubham.getName()"
   ]
  },
  {
   "cell_type": "code",
   "execution_count": 132,
   "id": "6e815d0a",
   "metadata": {},
   "outputs": [
    {
     "data": {
      "text/plain": [
       "50"
      ]
     },
     "execution_count": 132,
     "metadata": {},
     "output_type": "execute_result"
    }
   ],
   "source": [
    "shubham.getRollNumber()"
   ]
  },
  {
   "cell_type": "code",
   "execution_count": 88,
   "id": "e09839e9",
   "metadata": {},
   "outputs": [
    {
     "data": {
      "text/plain": [
       "11"
      ]
     },
     "execution_count": 88,
     "metadata": {},
     "output_type": "execute_result"
    }
   ],
   "source": [
    "shubham.RollNumber"
   ]
  },
  {
   "cell_type": "code",
   "execution_count": 36,
   "id": "8fa1f57e",
   "metadata": {},
   "outputs": [
    {
     "data": {
      "text/plain": [
       "25"
      ]
     },
     "execution_count": 36,
     "metadata": {},
     "output_type": "execute_result"
    }
   ],
   "source": [
    "shubham.setRollNumber(25)"
   ]
  },
  {
   "cell_type": "code",
   "execution_count": 38,
   "id": "6417ac3b",
   "metadata": {},
   "outputs": [
    {
     "data": {
      "text/plain": [
       "'35'"
      ]
     },
     "execution_count": 38,
     "metadata": {},
     "output_type": "execute_result"
    }
   ],
   "source": [
    "shubham.setRollNumber(\"35\")"
   ]
  },
  {
   "cell_type": "code",
   "execution_count": 39,
   "id": "6145f6b0",
   "metadata": {},
   "outputs": [
    {
     "data": {
      "text/plain": [
       "11"
      ]
     },
     "execution_count": 39,
     "metadata": {},
     "output_type": "execute_result"
    }
   ],
   "source": [
    "shubham.RollNumber"
   ]
  },
  {
   "cell_type": "code",
   "execution_count": 44,
   "id": "e97c272c",
   "metadata": {},
   "outputs": [
    {
     "data": {
      "text/plain": [
       "35"
      ]
     },
     "execution_count": 44,
     "metadata": {},
     "output_type": "execute_result"
    }
   ],
   "source": [
    "shubham.setRollNumber(35)"
   ]
  },
  {
   "cell_type": "code",
   "execution_count": 45,
   "id": "70e56a75",
   "metadata": {},
   "outputs": [
    {
     "data": {
      "text/plain": [
       "11"
      ]
     },
     "execution_count": 45,
     "metadata": {},
     "output_type": "execute_result"
    }
   ],
   "source": [
    "shubham.RollNumber"
   ]
  },
  {
   "cell_type": "code",
   "execution_count": 53,
   "id": "787bdd3c",
   "metadata": {},
   "outputs": [],
   "source": [
    "shubham.setRollNumber(\"40\")"
   ]
  },
  {
   "cell_type": "code",
   "execution_count": 54,
   "id": "91b0ce9e",
   "metadata": {},
   "outputs": [
    {
     "data": {
      "text/plain": [
       "'40'"
      ]
     },
     "execution_count": 54,
     "metadata": {},
     "output_type": "execute_result"
    }
   ],
   "source": [
    "shubham.RollNumber"
   ]
  },
  {
   "cell_type": "code",
   "execution_count": 59,
   "id": "245e9f30",
   "metadata": {},
   "outputs": [
    {
     "data": {
      "text/plain": [
       "'40'"
      ]
     },
     "execution_count": 59,
     "metadata": {},
     "output_type": "execute_result"
    }
   ],
   "source": [
    "shubham.getRollNumber(0)"
   ]
  },
  {
   "cell_type": "code",
   "execution_count": 133,
   "id": "e30cd107",
   "metadata": {},
   "outputs": [
    {
     "ename": "AttributeError",
     "evalue": "'Student' object has no attribute 'name'",
     "output_type": "error",
     "traceback": [
      "\u001b[1;31m---------------------------------------------------------------------------\u001b[0m",
      "\u001b[1;31mAttributeError\u001b[0m                            Traceback (most recent call last)",
      "\u001b[1;32m~\\AppData\\Local\\Temp\\ipykernel_6808\\4193925381.py\u001b[0m in \u001b[0;36m<module>\u001b[1;34m\u001b[0m\n\u001b[1;32m----> 1\u001b[1;33m \u001b[0mshubham\u001b[0m\u001b[1;33m.\u001b[0m\u001b[0mname\u001b[0m\u001b[1;33m\u001b[0m\u001b[1;33m\u001b[0m\u001b[0m\n\u001b[0m",
      "\u001b[1;31mAttributeError\u001b[0m: 'Student' object has no attribute 'name'"
     ]
    }
   ],
   "source": [
    "shubham.name"
   ]
  },
  {
   "cell_type": "code",
   "execution_count": null,
   "id": "46050691",
   "metadata": {},
   "outputs": [],
   "source": []
  }
 ],
 "metadata": {
  "kernelspec": {
   "display_name": "Python 3 (ipykernel)",
   "language": "python",
   "name": "python3"
  },
  "language_info": {
   "codemirror_mode": {
    "name": "ipython",
    "version": 3
   },
   "file_extension": ".py",
   "mimetype": "text/x-python",
   "name": "python",
   "nbconvert_exporter": "python",
   "pygments_lexer": "ipython3",
   "version": "3.9.13"
  }
 },
 "nbformat": 4,
 "nbformat_minor": 5
}
