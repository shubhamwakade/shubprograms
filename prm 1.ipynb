{
 "cells": [
  {
   "cell_type": "markdown",
   "id": "b5bc2aed",
   "metadata": {},
   "source": [
    "# Python Candidates - Question 1\n",
    "\n",
    "\n",
    "\n",
    "You will have a number of elements and in the next n lines element of a list. You have to create a list from the given strings. You have to sort the list based on 2nd last character of a string\n",
    "\n",
    "\n",
    "\n",
    "For example: Given list = ['great','hello','hiyo','abc'] So your output_dictionary should be ['great','abc','hello','hiyo']\n",
    "\n",
    "\n",
    "\n",
    "Input format:\n",
    "\n",
    "\n",
    "\n",
    "At first-line it will have an integer (number of elements inside a list). In the second line it will have a string\n",
    "\n",
    "\n",
    "\n",
    "Output Format:\n",
    "\n",
    "\n",
    "\n",
    "A single line containing a sorted list\n",
    "\n"
   ]
  },
  {
   "cell_type": "code",
   "execution_count": null,
   "id": "adc18c6e",
   "metadata": {},
   "outputs": [],
   "source": [
    "lst = []\n",
    "size=int(input(\"Enter the size of list : \"))\n",
    "for i in range(0,size):\n",
    "    ele=input(\"Enter a Element : \")\n",
    "    lst.append(ele)\n",
    "for i in range(len(lst)):\n",
    "    for j in range(i+1,len(lst)):\n",
    "        if lst[i][-2]>lst[j][-2]:\n",
    "            lst[i],lst[j]=lst[j],lst[i]\n",
    "print(lst)"
   ]
  }
 ],
 "metadata": {
  "kernelspec": {
   "display_name": "Python 3 (ipykernel)",
   "language": "python",
   "name": "python3"
  },
  "language_info": {
   "codemirror_mode": {
    "name": "ipython",
    "version": 3
   },
   "file_extension": ".py",
   "mimetype": "text/x-python",
   "name": "python",
   "nbconvert_exporter": "python",
   "pygments_lexer": "ipython3",
   "version": "3.9.13"
  }
 },
 "nbformat": 4,
 "nbformat_minor": 5
}
