{
 "cells": [
  {
   "cell_type": "markdown",
   "id": "c3a83fe7",
   "metadata": {},
   "source": [
    "# Your task is to complete the validate_triangle and the validate_rectangle functions for the classes. Hint for validating is given in the comments of the code. Also you will have to fill the following after validation in respective functions:\n",
    "\n",
    "\n",
    "\n",
    "Invalid triangle: If the triangle sum property of sides is not valid (more hints in the comments of the code)\n",
    "Valid Triangle: If the triangle sum property of sides is valid\n",
    "Valid rectangle: If 2 side pairs are same and they are input in correct order like l,b,l,b\n",
    "Invalid rectangle: If Not Valid rectangle as stated above\n",
    "\n",
    "\n",
    "Input format\n",
    "\n",
    "\n",
    "\n",
    "The side length of the triangle followed by for rectangle in the next line in order\n",
    "\n",
    "\n",
    "\n",
    "\n",
    "\n",
    "Output format:\n",
    "\n",
    "\n",
    "\n",
    "Since objects are created in order, so first validate info about triangle will come and then rectangle\n",
    "\n",
    "\n",
    "\n",
    "\n",
    "\n",
    "Sample input:0\n",
    "\n",
    "\n",
    "\n",
    "3 4 5\n",
    "\n",
    "\n",
    "\n",
    "24 2 4\n",
    "\n",
    "\n",
    "\n",
    "Sample Output:0\n",
    "\n",
    "\n",
    "\n",
    "Valid Triangle\n",
    "\n",
    "\n",
    "\n",
    "Valid Rectangle\n",
    "\n"
   ]
  },
  {
   "cell_type": "code",
   "execution_count": null,
   "id": "adc2da91",
   "metadata": {},
   "outputs": [
    {
     "name": "stdout",
     "output_type": "stream",
     "text": [
      "Enter 1st side of triangle : 3\n",
      "Enter 2nd side of triangle : 4\n",
      "Enter 3rd side of triangle : 5\n",
      "Valid Triangle\n"
     ]
    }
   ],
   "source": [
    "def validate_triangle(a, b, c):\n",
    "    if (a + b <= c) or (a + c <= b) or (b + c <= a) :\n",
    "        return False\n",
    "    else:\n",
    "        return True       \n",
    "a = int(input(\"Enter 1st side of triangle : \"))\n",
    "b = int(input(\"Enter 2nd side of triangle : \"))\n",
    "c = int(input(\"Enter 3rd side of triangle : \"))\n",
    "\n",
    "if validate_triangle(a, b, c):\n",
    "    print(\"Valid Triangle\")\n",
    "else:\n",
    "    print(\"Invalid Triangle\")\n",
    "\n",
    "def validate_rectangle(l1,b1,l2,b2):\n",
    "    if (l1 == l2 and b1 == b2) :\n",
    "        return True\n",
    "    else:\n",
    "        return False       \n",
    "l1 = int(input(\"\\nEnter Length (l1) of Rectangle : \"))\n",
    "b1 = int(input(\"Enter breadth (b1) of Rectangle : \"))\n",
    "l2 = int(input(\"Enter Length (l2) of Rectangle : \"))\n",
    "b2 = int(input(\"Enter breadth (b2) of Rectangle : \"))\n",
    "if validate_rectangle(l1,b1,l2,b2):\n",
    "    print(\"Valid Rectangle\")\n",
    "else:\n",
    "    print(\"Invalid Rectangle\")"
   ]
  },
  {
   "cell_type": "code",
   "execution_count": null,
   "id": "026d921a",
   "metadata": {},
   "outputs": [],
   "source": []
  }
 ],
 "metadata": {
  "kernelspec": {
   "display_name": "Python 3 (ipykernel)",
   "language": "python",
   "name": "python3"
  },
  "language_info": {
   "codemirror_mode": {
    "name": "ipython",
    "version": 3
   },
   "file_extension": ".py",
   "mimetype": "text/x-python",
   "name": "python",
   "nbconvert_exporter": "python",
   "pygments_lexer": "ipython3",
   "version": "3.9.13"
  }
 },
 "nbformat": 4,
 "nbformat_minor": 5
}
