{
 "cells": [
  {
   "cell_type": "markdown",
   "id": "424cd591",
   "metadata": {},
   "source": [
    "# Write a Python function to sum all the numbers in a list.\n",
    "\n"
   ]
  },
  {
   "cell_type": "code",
   "execution_count": 1,
   "id": "ad835299",
   "metadata": {},
   "outputs": [
    {
     "name": "stdout",
     "output_type": "stream",
     "text": [
      "Entre The input:7,89,10\n",
      "Expected Output:  106\n"
     ]
    }
   ],
   "source": [
    "samplelist=(eval(input(\"Entre The input:\")))\n",
    "add=0\n",
    "for i in samplelist:\n",
    "    add+=i\n",
    "print('Expected Output: ',add)"
   ]
  },
  {
   "cell_type": "code",
   "execution_count": 3,
   "id": "20449e9b",
   "metadata": {},
   "outputs": [
    {
     "name": "stdout",
     "output_type": "stream",
     "text": [
      "Entre the list:7,80,90\n",
      "Expected Output:  177\n"
     ]
    }
   ],
   "source": [
    "samplelist=eval(input(\"Entre the list:\"))\n",
    "print('Expected Output: ',sum(samplelist))"
   ]
  },
  {
   "cell_type": "code",
   "execution_count": 4,
   "id": "b6e01a11",
   "metadata": {},
   "outputs": [
    {
     "name": "stdout",
     "output_type": "stream",
     "text": [
      "Entre the list:7,80,90\n",
      "Expected Output is: 177\n"
     ]
    }
   ],
   "source": [
    "samplelist=eval(input(\"Entre the list:\"))\n",
    "Total=sum(samplelist)\n",
    "print(\"Expected Output is:\" , Total)"
   ]
  },
  {
   "cell_type": "code",
   "execution_count": null,
   "id": "aa1c65cd",
   "metadata": {},
   "outputs": [],
   "source": []
  }
 ],
 "metadata": {
  "kernelspec": {
   "display_name": "Python 3 (ipykernel)",
   "language": "python",
   "name": "python3"
  },
  "language_info": {
   "codemirror_mode": {
    "name": "ipython",
    "version": 3
   },
   "file_extension": ".py",
   "mimetype": "text/x-python",
   "name": "python",
   "nbconvert_exporter": "python",
   "pygments_lexer": "ipython3",
   "version": "3.9.13"
  }
 },
 "nbformat": 4,
 "nbformat_minor": 5
}
