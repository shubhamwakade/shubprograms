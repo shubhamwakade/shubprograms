{
 "cells": [
  {
   "cell_type": "code",
   "execution_count": 82,
   "id": "61bdb935",
   "metadata": {},
   "outputs": [],
   "source": [
    "class Point:\n",
    "\n",
    "    def __init__(self,x,y,z):\n",
    "        self.x = x\n",
    "        self.y = y\n",
    "        self.z = z\n",
    "\n",
    "    def sq_sum(self,x,y,z):\n",
    "        return x * x + y * y + z * z \n"
   ]
  },
  {
   "cell_type": "code",
   "execution_count": 83,
   "id": "d06aaaee",
   "metadata": {},
   "outputs": [
    {
     "name": "stdout",
     "output_type": "stream",
     "text": [
      "35\n"
     ]
    }
   ],
   "source": [
    "sample=Point(1,2,3)\n",
    "print (sample.sq_sum(1,3,5))"
   ]
  },
  {
   "cell_type": "code",
   "execution_count": 75,
   "id": "be5b0e72",
   "metadata": {},
   "outputs": [
    {
     "data": {
      "text/plain": [
       "35"
      ]
     },
     "execution_count": 75,
     "metadata": {},
     "output_type": "execute_result"
    }
   ],
   "source": [
    "sample.sq_sum(1,3,5)"
   ]
  },
  {
   "cell_type": "code",
   "execution_count": null,
   "id": "88b5e926",
   "metadata": {},
   "outputs": [],
   "source": []
  }
 ],
 "metadata": {
  "kernelspec": {
   "display_name": "Python 3 (ipykernel)",
   "language": "python",
   "name": "python3"
  },
  "language_info": {
   "codemirror_mode": {
    "name": "ipython",
    "version": 3
   },
   "file_extension": ".py",
   "mimetype": "text/x-python",
   "name": "python",
   "nbconvert_exporter": "python",
   "pygments_lexer": "ipython3",
   "version": "3.9.13"
  }
 },
 "nbformat": 4,
 "nbformat_minor": 5
}
